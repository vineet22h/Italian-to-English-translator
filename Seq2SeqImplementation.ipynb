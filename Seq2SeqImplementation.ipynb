{
 "cells": [
  {
   "cell_type": "markdown",
   "metadata": {
    "id": "fwPL0hIlGKoA"
   },
   "source": [
    "# <font color='red'>**Sequence to sequence implementation**</font>"
   ]
  },
  {
   "cell_type": "markdown",
   "metadata": {
    "id": "QyfZo8fmLOec"
   },
   "source": [
    "## 1: Simple Encoder and Decoder\n"
   ]
  },
  {
   "cell_type": "markdown",
   "metadata": {
    "id": "3k_AlAuKJqVA"
   },
   "source": [
    "<font color='blue'>**Load the data**</font>"
   ]
  },
  {
   "cell_type": "code",
   "execution_count": 98,
   "metadata": {
    "id": "Qln8nZgrgxZX"
   },
   "outputs": [],
   "source": [
    "import tensorflow as tf\n",
    "gpus = tf.config.experimental.list_physical_devices('GPU')\n",
    "tf.config.experimental.set_memory_growth(gpus[0], True)"
   ]
  },
  {
   "cell_type": "code",
   "execution_count": 99,
   "metadata": {
    "id": "KztMNY5dgxZX"
   },
   "outputs": [],
   "source": [
    "import warnings\n",
    "warnings.filterwarnings('ignore')"
   ]
  },
  {
   "cell_type": "code",
   "execution_count": 100,
   "metadata": {
    "colab": {
     "base_uri": "https://localhost:8080/"
    },
    "id": "fU80Ao-AGaob",
    "outputId": "0110ff5d-d945-4930-ec31-c2cf5442f0ca"
   },
   "outputs": [
    {
     "name": "stdout",
     "output_type": "stream",
     "text": [
      "341555\n"
     ]
    }
   ],
   "source": [
    "import pandas as pd\n",
    "from tqdm import tqdm\n",
    "import tensorflow as tf\n",
    "\n",
    "data = open('ita.txt', 'r', encoding = 'utf-8').read().split('\\n')\n",
    "print(len(data))"
   ]
  },
  {
   "cell_type": "code",
   "execution_count": 101,
   "metadata": {
    "colab": {
     "base_uri": "https://localhost:8080/",
     "height": 204
    },
    "id": "cQwlPf-HgxZY",
    "outputId": "fcae332b-13c9-4816-a75e-4c70524fcdc5"
   },
   "outputs": [
    {
     "data": {
      "text/html": [
       "<div>\n",
       "<style scoped>\n",
       "    .dataframe tbody tr th:only-of-type {\n",
       "        vertical-align: middle;\n",
       "    }\n",
       "\n",
       "    .dataframe tbody tr th {\n",
       "        vertical-align: top;\n",
       "    }\n",
       "\n",
       "    .dataframe thead th {\n",
       "        text-align: right;\n",
       "    }\n",
       "</style>\n",
       "<table border=\"1\" class=\"dataframe\">\n",
       "  <thead>\n",
       "    <tr style=\"text-align: right;\">\n",
       "      <th></th>\n",
       "      <th>english</th>\n",
       "      <th>italin</th>\n",
       "    </tr>\n",
       "  </thead>\n",
       "  <tbody>\n",
       "    <tr>\n",
       "      <th>0</th>\n",
       "      <td>Hi.</td>\n",
       "      <td>Ciao!</td>\n",
       "    </tr>\n",
       "    <tr>\n",
       "      <th>1</th>\n",
       "      <td>Run!</td>\n",
       "      <td>Corri!</td>\n",
       "    </tr>\n",
       "    <tr>\n",
       "      <th>2</th>\n",
       "      <td>Run!</td>\n",
       "      <td>Corra!</td>\n",
       "    </tr>\n",
       "    <tr>\n",
       "      <th>3</th>\n",
       "      <td>Run!</td>\n",
       "      <td>Correte!</td>\n",
       "    </tr>\n",
       "    <tr>\n",
       "      <th>4</th>\n",
       "      <td>Who?</td>\n",
       "      <td>Chi?</td>\n",
       "    </tr>\n",
       "  </tbody>\n",
       "</table>\n",
       "</div>"
      ],
      "text/plain": [
       "  english    italin\n",
       "0     Hi.     Ciao!\n",
       "1    Run!    Corri!\n",
       "2    Run!    Corra!\n",
       "3    Run!  Correte!\n",
       "4    Who?      Chi?"
      ]
     },
     "execution_count": 101,
     "metadata": {},
     "output_type": "execute_result"
    }
   ],
   "source": [
    "df = []\n",
    "for i in range(100000):\n",
    "    try:\n",
    "        english, italin = data[i].split('\\t')[0:2]\n",
    "        df.append([english, italin])\n",
    "    except:\n",
    "        pass\n",
    "\n",
    "df = pd.DataFrame(df, columns = ['english', 'italin'])\n",
    "df.head()"
   ]
  },
  {
   "cell_type": "markdown",
   "metadata": {
    "id": "vmGWTdRmKRph"
   },
   "source": [
    "<font color='blue'>**Preprocess data**</font>"
   ]
  },
  {
   "cell_type": "code",
   "execution_count": 102,
   "metadata": {
    "id": "9QqElB_nKZos",
    "scrolled": false
   },
   "outputs": [],
   "source": [
    "import contractions\n",
    "import re\n",
    "import numpy as np\n",
    "def preprocess(text):\n",
    "    # convert all the text into lower letters\n",
    "    # use this function to remove the contractions: https://gist.github.com/anandborad/d410a49a493b56dace4f814ab5325bbd\n",
    "    # remove all the spacial characters: except space ' '\n",
    "    text = text.lower()\n",
    "    for j, word in enumerate(text.split()):\n",
    "        try:\n",
    "    #         print(word)\n",
    "            if len(re.findall('[^\\w\\d\\ \"]', word))> 0:\n",
    "                text = re.sub(word, contractions.fix(word), text)\n",
    "        \n",
    "            text = re.sub('[^A-Za-z0-9èìò ]+', '', text)\n",
    "        except:\n",
    "            return np.nan\n",
    "    return text\n",
    "\n",
    "a = df.english.astype('str').apply(lambda x: preprocess(x))\n",
    "b = df.italin.astype('str').apply(lambda x: preprocess(x))\n",
    "df_preprocessed = pd.DataFrame(data = np.array([a, b]).T, columns = ['english', 'italin'])"
   ]
  },
  {
   "cell_type": "markdown",
   "metadata": {
    "id": "S8RDrP4xKabR"
   },
   "source": [
    "## <font color='blue'>**Implement custom encoder decoder**</font>"
   ]
  },
  {
   "cell_type": "markdown",
   "metadata": {
    "id": "A45uc0JILMlV"
   },
   "source": [
    "<font color='blue'>**Encoder**</font>"
   ]
  },
  {
   "cell_type": "code",
   "execution_count": 103,
   "metadata": {
    "id": "9cex2XfCLOew"
   },
   "outputs": [],
   "source": [
    "from tensorflow.keras.layers import Embedding, LSTM, Dense\n",
    "import tensorflow as tf\n",
    "class Encoder(tf.keras.Model):\n",
    "    '''\n",
    "    Encoder model -- That takes a input sequence and returns encoder-outputs,encoder_final_state_h,encoder_final_state_c\n",
    "    '''\n",
    "\n",
    "    def __init__(self,inp_vocab_size,embedding_size,lstm_size,input_length):\n",
    "        super().__init__()\n",
    "        self.lstm_size = lstm_size\n",
    "        #Initialize Embedding layer\n",
    "        self.enc_embed = Embedding(input_dim = inp_vocab_size, output_dim = embedding_size, input_length= input_length)\n",
    "        #Intialize Encoder LSTM layer\n",
    "        self.enc_lstm = LSTM(lstm_size, return_sequences = True, return_state = True)\n",
    "\n",
    "    def call(self,input_sequence,states):\n",
    "        embedding = self.enc_embed(input_sequence)\n",
    "        output_state, enc_h, enc_c = self.enc_lstm(embedding, initial_state = states)\n",
    "        return output_state, enc_h, enc_c\n",
    "    \n",
    "    def initialize_states(self,batch_size):\n",
    "        return [tf.zeros((batch_size, self.lstm_size)), tf.zeros((batch_size, self.lstm_size))]\n"
   ]
  },
  {
   "cell_type": "code",
   "execution_count": 105,
   "metadata": {
    "id": "x1ES1-sJLOe4"
   },
   "outputs": [],
   "source": [
    "class Decoder(tf.keras.Model):\n",
    "    '''\n",
    "    Encoder model -- That takes a input sequence and returns output sequence\n",
    "    '''\n",
    "    def __init__(self,out_vocab_size,embedding_size,lstm_size,input_length):\n",
    "        super().__init__()\n",
    "        #Initialize Embedding layer\n",
    "        self.dec_embed = Embedding(input_dim = out_vocab_size, output_dim = embedding_size, input_length = input_length)\n",
    "        #Intialize Decoder LSTM layer\n",
    "        self.dec_lstm = LSTM(lstm_size, return_sequences = True, return_state = True)\n",
    "    \n",
    "    def call(self,input_sequence, initial_states):\n",
    "        embedding = self.dec_embed(input_sequence)\n",
    "        output_state, dec_h, dec_c = self.dec_lstm(embedding, initial_state = initial_states)\n",
    "        return output_state, dec_h, dec_c"
   ]
  },
  {
   "cell_type": "code",
   "execution_count": 107,
   "metadata": {
    "id": "BXrIj4scLOe_"
   },
   "outputs": [],
   "source": [
    "class Encoder_decoder(tf.keras.Model): \n",
    "    def __init__(self,*params):\n",
    "        super().__init__()\n",
    "        #Create encoder object\n",
    "        self.encoder = Encoder(inp_vocab_size = params[0], embedding_size = params[2], lstm_size = params[3], input_length = params[4])\n",
    "        #Create decoder object\n",
    "        self.decoder = Decoder(out_vocab_size = params[1], embedding_size = params[2], lstm_size = params[3], input_length = params[5])\n",
    "        #Intialize Dense layer(out_vocab_size) with activation='softmax'\n",
    "        self.dense = Dense(params[1], activation='softmax')\n",
    "    \n",
    "    @tf.function\n",
    "    def call(self, params, training = True):\n",
    "\n",
    "        enc_inp, dec_inp = params[0], params[1]\n",
    "        initial_state = self.encoder.initialize_states(batch_size)\n",
    "        output_state, enc_h, enc_c = self.encoder(enc_inp, initial_state)\n",
    "        output, _, _ = self.decoder(dec_inp ,[enc_h, enc_c])\n",
    "        return self.dense(output)"
   ]
  },
  {
   "cell_type": "code",
   "execution_count": 108,
   "metadata": {
    "id": "fpa-50eMgxZY"
   },
   "outputs": [],
   "source": [
    "df_preprocessed['english_inp'] = '<sos> '+df_preprocessed['english']\n",
    "df_preprocessed['english_out'] = df_preprocessed['english'] + ' <eos>'\n",
    "df_preprocessed['italin'] = df_preprocessed['italin'].apply(lambda x: str(x))\n",
    "df_preprocessed['italin'] = '<sos> '+df_preprocessed['italin']+' <eos>'\n",
    "\n",
    "from sklearn.model_selection import train_test_split\n",
    "train, test = train_test_split(df_preprocessed, test_size = 0.1, random_state = 0)\n",
    "train, validation = train_test_split(train, test_size = 0.1, random_state = 0)"
   ]
  },
  {
   "cell_type": "code",
   "execution_count": 109,
   "metadata": {
    "id": "GSQBdZ_MgxZY"
   },
   "outputs": [],
   "source": [
    "from tensorflow.keras.preprocessing.text import Tokenizer\n",
    "tknizer_ita = Tokenizer()\n",
    "tknizer_ita.fit_on_texts(train['italin'].values)\n",
    "tknizer_eng = Tokenizer(filters='!\"#$%&()*+,-./:;=?@[\\\\]^_`{|}~\\t\\n')\n",
    "tknizer_eng.fit_on_texts(train['english_inp'].values + train['english_out'].values)"
   ]
  },
  {
   "cell_type": "code",
   "execution_count": 110,
   "metadata": {
    "id": "3O0gwOc9gxZY"
   },
   "outputs": [],
   "source": [
    "len_eng = df_preprocessed['italin'].astype(str).apply(lambda x: len(x))\n",
    "len_italin = df_preprocessed['english_inp'].astype(str).apply(lambda x: len(x))"
   ]
  },
  {
   "cell_type": "code",
   "execution_count": 111,
   "metadata": {
    "colab": {
     "base_uri": "https://localhost:8080/"
    },
    "id": "mUuqbpsrgxZY",
    "outputId": "78efc9ae-0946-437a-cc28-d5c4ad512036"
   },
   "outputs": [
    {
     "name": "stdout",
     "output_type": "stream",
     "text": [
      "0 12.0\n",
      "10 24.0\n",
      "20 26.0\n",
      "30 28.0\n",
      "40 29.0\n",
      "50 31.0\n",
      "60 32.0\n",
      "70 34.0\n",
      "80 35.0\n",
      "90 38.0\n",
      "100 112.0\n",
      "90 38.0\n",
      "91 38.0\n",
      "92 39.0\n",
      "93 39.0\n",
      "94 40.0\n",
      "95 40.0\n",
      "96 41.0\n",
      "97 42.0\n",
      "98 43.0\n",
      "99 45.0\n",
      "100 112.0\n",
      "99.1 45.0\n",
      "99.2 46.0\n",
      "99.3 46.0\n",
      "99.4 47.0\n",
      "99.5 47.0\n",
      "99.6 48.0\n",
      "99.7 48.0\n",
      "99.8 50.0\n",
      "99.9 52.0\n",
      "100 112.0\n"
     ]
    }
   ],
   "source": [
    "for i in range(0,101,10):\n",
    "    print(i,np.percentile(len_eng, i))\n",
    "for i in range(90,101):\n",
    "    print(i,np.percentile(len_eng, i))\n",
    "for i in [99.1,99.2,99.3,99.4,99.5,99.6,99.7,99.8,99.9,100]:\n",
    "    print(i,np.percentile(len_eng, i))"
   ]
  },
  {
   "cell_type": "code",
   "execution_count": 112,
   "metadata": {
    "colab": {
     "base_uri": "https://localhost:8080/"
    },
    "id": "1dstiA6igxZZ",
    "outputId": "461565de-2b05-4ad1-a9ca-5c8b0c0e1f94"
   },
   "outputs": [
    {
     "name": "stdout",
     "output_type": "stream",
     "text": [
      "0 8.0\n",
      "10 18.0\n",
      "20 20.0\n",
      "30 21.0\n",
      "40 22.0\n",
      "50 23.0\n",
      "60 24.0\n",
      "70 25.0\n",
      "80 25.0\n",
      "90 26.0\n",
      "100 45.0\n",
      "90 26.0\n",
      "91 26.0\n",
      "92 26.0\n",
      "93 26.0\n",
      "94 27.0\n",
      "95 27.0\n",
      "96 27.0\n",
      "97 27.0\n",
      "98 27.0\n",
      "99 28.0\n",
      "100 45.0\n",
      "99.1 28.0\n",
      "99.2 28.0\n",
      "99.3 28.0\n",
      "99.4 28.0\n",
      "99.5 28.0\n",
      "99.6 28.0\n",
      "99.7 28.0\n",
      "99.8 29.0\n",
      "99.9 29.0\n",
      "100 45.0\n"
     ]
    }
   ],
   "source": [
    "for i in range(0,101,10):\n",
    "    print(i,np.percentile(len_italin, i))\n",
    "for i in range(90,101):\n",
    "    print(i,np.percentile(len_italin, i))\n",
    "for i in [99.1,99.2,99.3,99.4,99.5,99.6,99.7,99.8,99.9,100]:\n",
    "    print(i,np.percentile(len_italin, i))"
   ]
  },
  {
   "cell_type": "code",
   "execution_count": 113,
   "metadata": {
    "id": "-KWbFCDqgxZZ"
   },
   "outputs": [],
   "source": [
    "max_len_eng = 0\n",
    "eng_vocab = set()\n",
    "for sent in df_preprocessed['english_inp'].values+df_preprocessed['english_out'].values:\n",
    "    length = len(sent.split())\n",
    "    if length > max_len_eng:\n",
    "        max_len_eng = length\n",
    "    for word in sent.split():\n",
    "        eng_vocab.add(word)\n",
    "eng_vocab_size = len(eng_vocab)\n",
    "\n",
    "max_len_ita = 0\n",
    "ita_vocab = set()\n",
    "for sent in df_preprocessed['italin']:\n",
    "    length = len(sent.split())\n",
    "    if length > max_len_ita:\n",
    "        max_len_ita = length\n",
    "    for word in sent.split():\n",
    "        ita_vocab.add(word)\n",
    "ita_vocab_size = len(ita_vocab)"
   ]
  },
  {
   "cell_type": "code",
   "execution_count": 114,
   "metadata": {
    "id": "3t_F5U-BgxZZ"
   },
   "outputs": [],
   "source": [
    "from tensorflow.keras.preprocessing.sequence import pad_sequences\n",
    "from tensorflow.keras.utils import to_categorical\n",
    "\n",
    "class Dataset:\n",
    "    def __init__(self, data, tknizer_ita, tknizer_eng, max_len_ita, max_len_eng):\n",
    "        self.encoder_inps = data['italin'].values\n",
    "        self.decoder_inps = data['english_inp'].values\n",
    "        self.decoder_outs = data['english_out'].values\n",
    "        self.tknizer_eng = tknizer_eng\n",
    "        self.tknizer_ita = tknizer_ita\n",
    "        self.max_len_ita = max_len_ita\n",
    "        self.max_len_eng = max_len_eng\n",
    "\n",
    "    def __getitem__(self, i):\n",
    "        self.encoder_seq = self.tknizer_ita.texts_to_sequences([self.encoder_inps[i]]) # need to pass list of values\n",
    "        self.decoder_inp_seq = self.tknizer_eng.texts_to_sequences([self.decoder_inps[i]])\n",
    "        self.decoder_out_seq = self.tknizer_eng.texts_to_sequences([self.decoder_outs[i]])\n",
    "\n",
    "        self.encoder_seq = pad_sequences(self.encoder_seq, maxlen=self.max_len_ita, dtype='int32', padding='post')\n",
    "        self.decoder_inp_seq = pad_sequences(self.decoder_inp_seq, maxlen=self.max_len_eng, dtype='int32', padding='post')\n",
    "        self.decoder_out_seq = pad_sequences(self.decoder_out_seq, maxlen=self.max_len_eng, dtype='int32', padding='post')\n",
    "        return self.encoder_seq, self.decoder_inp_seq, self.decoder_out_seq\n",
    "\n",
    "    def __len__(self): # your model.fit_gen requires this function\n",
    "        return len(self.encoder_inps)\n",
    "\n",
    "    \n",
    "class Dataloder(tf.keras.utils.Sequence):    \n",
    "    def __init__(self, dataset, batch_size):\n",
    "        self.dataset = dataset\n",
    "        self.batch_size = batch_size\n",
    "        self.indexes = np.arange(len(self.dataset.encoder_inps))\n",
    "\n",
    "    def __getitem__(self, i):\n",
    "        start = i * self.batch_size\n",
    "        stop = (i + 1) * self.batch_size\n",
    "        data = []\n",
    "        for j in range(start, stop):\n",
    "            data.append(self.dataset[j])\n",
    "\n",
    "        batch = [np.squeeze(np.stack(samples, axis=1), axis=0) for samples in zip(*data)]\n",
    "#         print(batch[0].shape, batch[1].shape, batch[2].shape)\n",
    "        # we are creating data like ([italian, english_inp], english_out) these are already converted into seq\n",
    "        return tuple([[tf.convert_to_tensor(batch[0]), tf.convert_to_tensor(batch[1])], tf.convert_to_tensor(batch[2])])\n",
    "\n",
    "    def __len__(self):  # your model.fit_gen requires this function\n",
    "        return len(self.indexes) // self.batch_size\n",
    "\n",
    "    def on_epoch_end(self):\n",
    "        self.indexes = np.random.permutation(self.indexes)"
   ]
  },
  {
   "cell_type": "code",
   "execution_count": 115,
   "metadata": {
    "colab": {
     "base_uri": "https://localhost:8080/"
    },
    "id": "1bMWW4wpgxZZ",
    "outputId": "e8cb3957-a39e-4475-b218-bf57ed44ab04"
   },
   "outputs": [
    {
     "name": "stdout",
     "output_type": "stream",
     "text": [
      "Loaded 400000 word vectors.\n"
     ]
    }
   ],
   "source": [
    "embeddings_index = dict()\n",
    "f = open('glove.6B.300d.txt', encoding = 'utf-8')\n",
    "for line in f:\n",
    "    values = line.split()\n",
    "    word = values[0]\n",
    "    coefs = np.asarray(values[1:], dtype='float32')\n",
    "    embeddings_index[word] = coefs\n",
    "f.close()\n",
    "print('Loaded %s word vectors.' % len(embeddings_index))"
   ]
  },
  {
   "cell_type": "code",
   "execution_count": 116,
   "metadata": {
    "id": "a9jKl976gxZZ"
   },
   "outputs": [],
   "source": [
    "embedding_matrix = np.zeros((eng_vocab_size, 300))\n",
    "for word, i in tknizer_eng.word_index.items():\n",
    "    embedding_vector = embeddings_index.get(ord)\n",
    "    if embedding_vector is not None:\n",
    "        embedding_matrix[i] = embedding_vector"
   ]
  },
  {
   "cell_type": "code",
   "execution_count": 117,
   "metadata": {
    "id": "NZwYeDUugxZZ"
   },
   "outputs": [],
   "source": [
    "from tensorflow.keras.callbacks import*\n",
    "import os\n",
    "import datetime\n",
    "batch_size=32\n",
    "lstm_size=128\n",
    "max_len_eng = 50\n",
    "max_len_ita = 29\n",
    "embedding_dim = 300\n",
    "dense_units = 256\n",
    "\n",
    "train_dataset = Dataset(train, tknizer_ita, tknizer_eng, max_len_ita, max_len_eng)\n",
    "test_dataset  = Dataset(test, tknizer_ita, tknizer_eng, max_len_ita, max_len_eng)\n",
    "val_dataset  = Dataset(validation, tknizer_ita, tknizer_eng, max_len_ita, max_len_eng)\n",
    "\n",
    "train_dataloader = Dataloder(train_dataset, batch_size=batch_size)\n",
    "test_dataloader = Dataloder(test_dataset, batch_size=batch_size)\n",
    "val_dataloader = Dataloder(val_dataset, batch_size = batch_size)"
   ]
  },
  {
   "cell_type": "code",
   "execution_count": 118,
   "metadata": {
    "colab": {
     "base_uri": "https://localhost:8080/"
    },
    "id": "XLowAyTKeT5B",
    "outputId": "3d4e73db-af29-4cd0-bf8a-a0a5d581c2cd"
   },
   "outputs": [
    {
     "name": "stdout",
     "output_type": "stream",
     "text": [
      "Epoch 1/50\n",
      "   2/2531 [..............................] - ETA: 1:36:38 - loss: 10.1122WARNING:tensorflow:Callbacks method `on_train_batch_end` is slow compared to the batch time (batch time: 0.1646s vs `on_train_batch_end` time: 4.4088s). Check your callbacks.\n",
      "2531/2531 [==============================] - ETA: 0s - loss: 0.5123\n",
      "Epoch 00001: val_loss improved from inf to 0.33803, saving model to seq2seq\n",
      "2531/2531 [==============================] - 431s 170ms/step - loss: 0.5123 - val_loss: 0.3380\n",
      "Epoch 2/50\n",
      "2531/2531 [==============================] - ETA: 0s - loss: 0.2979- ETA: 0s - loss: 0.29\n",
      "Epoch 00002: val_loss improved from 0.33803 to 0.26173, saving model to seq2seq\n",
      "2531/2531 [==============================] - 449s 178ms/step - loss: 0.2979 - val_loss: 0.2617\n",
      "Epoch 3/50\n",
      "2531/2531 [==============================] - ETA: 0s - loss: 0.2302\n",
      "Epoch 00003: val_loss improved from 0.26173 to 0.20859, saving model to seq2seq\n",
      "2531/2531 [==============================] - 430s 170ms/step - loss: 0.2302 - val_loss: 0.2086\n",
      "Epoch 4/50\n",
      "2531/2531 [==============================] - ETA: 0s - loss: 0.1780\n",
      "Epoch 00004: val_loss improved from 0.20859 to 0.16905, saving model to seq2seq\n",
      "2531/2531 [==============================] - 428s 169ms/step - loss: 0.1780 - val_loss: 0.1691\n",
      "Epoch 5/50\n",
      "2531/2531 [==============================] - ETA: 0s - loss: 0.1369\n",
      "Epoch 00005: val_loss improved from 0.16905 to 0.13718, saving model to seq2seq\n",
      "2531/2531 [==============================] - 433s 171ms/step - loss: 0.1369 - val_loss: 0.1372\n",
      "Epoch 6/50\n",
      "2531/2531 [==============================] - ETA: 0s - loss: 0.1035\n",
      "Epoch 00006: val_loss improved from 0.13718 to 0.11437, saving model to seq2seq\n",
      "2531/2531 [==============================] - 429s 169ms/step - loss: 0.1035 - val_loss: 0.1144\n",
      "Epoch 7/50\n",
      "2531/2531 [==============================] - ETA: 0s - loss: 0.0780\n",
      "Epoch 00007: val_loss improved from 0.11437 to 0.09557, saving model to seq2seq\n",
      "2531/2531 [==============================] - 429s 169ms/step - loss: 0.0780 - val_loss: 0.0956\n",
      "Epoch 8/50\n",
      "2531/2531 [==============================] - ETA: 0s - loss: 0.0597\n",
      "Epoch 00008: val_loss improved from 0.09557 to 0.08455, saving model to seq2seq\n",
      "2531/2531 [==============================] - 428s 169ms/step - loss: 0.0597 - val_loss: 0.0846\n",
      "Epoch 9/50\n",
      "2531/2531 [==============================] - ETA: 0s - loss: 0.0469\n",
      "Epoch 00009: val_loss improved from 0.08455 to 0.07654, saving model to seq2seq\n",
      "2531/2531 [==============================] - 428s 169ms/step - loss: 0.0469 - val_loss: 0.0765\n",
      "Epoch 10/50\n",
      "2531/2531 [==============================] - ETA: 0s - loss: 0.0378\n",
      "Epoch 00010: val_loss improved from 0.07654 to 0.07184, saving model to seq2seq\n",
      "2531/2531 [==============================] - 428s 169ms/step - loss: 0.0378 - val_loss: 0.0718\n",
      "Epoch 11/50\n",
      "2531/2531 [==============================] - ETA: 0s - loss: 0.0314\n",
      "Epoch 00011: val_loss improved from 0.07184 to 0.06782, saving model to seq2seq\n",
      "2531/2531 [==============================] - 428s 169ms/step - loss: 0.0314 - val_loss: 0.0678\n",
      "Epoch 12/50\n",
      "2531/2531 [==============================] - ETA: 0s - loss: 0.0267\n",
      "Epoch 00012: val_loss improved from 0.06782 to 0.06619, saving model to seq2seq\n",
      "2531/2531 [==============================] - 428s 169ms/step - loss: 0.0267 - val_loss: 0.0662\n",
      "Epoch 13/50\n",
      "2531/2531 [==============================] - ETA: 0s - loss: 0.0233\n",
      "Epoch 00013: val_loss improved from 0.06619 to 0.06447, saving model to seq2seq\n",
      "2531/2531 [==============================] - 433s 171ms/step - loss: 0.0233 - val_loss: 0.0645\n",
      "Epoch 14/50\n",
      "2531/2531 [==============================] - ETA: 0s - loss: 0.0207\n",
      "Epoch 00014: val_loss improved from 0.06447 to 0.06300, saving model to seq2seq\n",
      "2531/2531 [==============================] - 427s 169ms/step - loss: 0.0207 - val_loss: 0.0630\n",
      "Epoch 15/50\n",
      "2531/2531 [==============================] - ETA: 0s - loss: 0.0186\n",
      "Epoch 00015: val_loss did not improve from 0.06300\n",
      "2531/2531 [==============================] - 425s 168ms/step - loss: 0.0186 - val_loss: 0.0634\n",
      "Epoch 16/50\n",
      "2531/2531 [==============================] - ETA: 0s - loss: 0.0171\n",
      "Epoch 00016: val_loss improved from 0.06300 to 0.06237, saving model to seq2seq\n",
      "2531/2531 [==============================] - 427s 169ms/step - loss: 0.0171 - val_loss: 0.0624\n",
      "Epoch 17/50\n",
      "2531/2531 [==============================] - ETA: 0s - loss: 0.0158\n",
      "Epoch 00017: val_loss did not improve from 0.06237\n",
      "2531/2531 [==============================] - 423s 167ms/step - loss: 0.0158 - val_loss: 0.0625\n",
      "Epoch 18/50\n",
      "2531/2531 [==============================] - ETA: 0s - loss: 0.0148\n",
      "Epoch 00018: val_loss did not improve from 0.06237\n",
      "2531/2531 [==============================] - 425s 168ms/step - loss: 0.0148 - val_loss: 0.0631\n",
      "Epoch 19/50\n",
      "2531/2531 [==============================] - ETA: 0s - loss: 0.0140\n",
      "Epoch 00019: val_loss did not improve from 0.06237\n",
      "\n",
      "Epoch 00019: ReduceLROnPlateau reducing learning rate to 0.00010000000474974513.\n",
      "2531/2531 [==============================] - 425s 168ms/step - loss: 0.0140 - val_loss: 0.0628\n",
      "Epoch 20/50\n",
      "2531/2531 [==============================] - ETA: 0s - loss: 0.0102\n",
      "Epoch 00020: val_loss improved from 0.06237 to 0.05994, saving model to seq2seq\n",
      "2531/2531 [==============================] - 428s 169ms/step - loss: 0.0102 - val_loss: 0.0599\n",
      "Epoch 21/50\n",
      "2531/2531 [==============================] - ETA: 0s - loss: 0.0090\n",
      "Epoch 00021: val_loss improved from 0.05994 to 0.05987, saving model to seq2seq\n",
      "2531/2531 [==============================] - 428s 169ms/step - loss: 0.0090 - val_loss: 0.0599\n",
      "Epoch 22/50\n",
      "2531/2531 [==============================] - ETA: 0s - loss: 0.0086\n",
      "Epoch 00022: val_loss improved from 0.05987 to 0.05984, saving model to seq2seq\n",
      "2531/2531 [==============================] - 427s 169ms/step - loss: 0.0086 - val_loss: 0.0598\n",
      "Epoch 23/50\n",
      "2531/2531 [==============================] - ETA: 0s - loss: 0.0083\n",
      "Epoch 00023: val_loss did not improve from 0.05984\n",
      "2531/2531 [==============================] - 426s 168ms/step - loss: 0.0083 - val_loss: 0.0600\n",
      "Epoch 24/50\n",
      "2531/2531 [==============================] - ETA: 0s - loss: 0.0081\n",
      "Epoch 00024: val_loss did not improve from 0.05984\n",
      "2531/2531 [==============================] - 430s 170ms/step - loss: 0.0081 - val_loss: 0.0602\n",
      "Epoch 25/50\n",
      "2531/2531 [==============================] - ETA: 0s - loss: 0.0080\n",
      "Epoch 00025: val_loss did not improve from 0.05984\n",
      "\n",
      "Epoch 00025: ReduceLROnPlateau reducing learning rate to 1.0000000474974514e-05.\n",
      "2531/2531 [==============================] - 442s 175ms/step - loss: 0.0080 - val_loss: 0.0602\n",
      "Epoch 26/50\n",
      "2531/2531 [==============================] - ETA: 0s - loss: 0.0075\n",
      "Epoch 00026: val_loss did not improve from 0.05984\n",
      "2531/2531 [==============================] - 447s 176ms/step - loss: 0.0075 - val_loss: 0.0602\n",
      "Epoch 27/50\n",
      "2531/2531 [==============================] - ETA: 0s - loss: 0.0074\n",
      "Epoch 00027: val_loss did not improve from 0.05984\n",
      "2531/2531 [==============================] - 453s 179ms/step - loss: 0.0074 - val_loss: 0.0603\n",
      "Epoch 00027: early stopping\n"
     ]
    },
    {
     "data": {
      "text/plain": [
       "<tensorflow.python.keras.callbacks.History at 0x1c3ba4d7788>"
      ]
     },
     "execution_count": 118,
     "metadata": {},
     "output_type": "execute_result"
    }
   ],
   "source": [
    "model = Encoder_decoder(ita_vocab_size, eng_vocab_size, embedding_dim, lstm_size, max_len_ita, max_len_eng, dense_units)\n",
    "model.compile(optimizer = 'Adam', loss = 'sparse_categorical_crossentropy')\n",
    "log_dir=\"logs/fit/\" + datetime.datetime.now().strftime(\"%Y%m%d-%H%M%S\")\n",
    "callbacks = [ModelCheckpoint('seq2seq', save_best_only= True, verbose = 1),\n",
    "             TensorBoard(log_dir = log_dir, histogram_freq=1, write_graph=True),\n",
    "             EarlyStopping(patience = 5, verbose = 1),\n",
    "             ReduceLROnPlateau(patience = 3, verbose = 1)]\n",
    "\n",
    "model.fit(x = train_dataloader, \n",
    "          steps_per_epoch = train_dataloader.__len__(),\n",
    "          validation_data = val_dataloader,\n",
    "          validation_steps = val_dataloader.__len__(),\n",
    "          epochs = 50,\n",
    "          verbose = 1,\n",
    "          callbacks = callbacks)"
   ]
  },
  {
   "cell_type": "code",
   "execution_count": 119,
   "metadata": {},
   "outputs": [],
   "source": [
    "class pred_Encoder_decoder(tf.keras.Model): \n",
    "    def __init__(self,*params):\n",
    "        super().__init__()\n",
    "        #Create encoder object\n",
    "        self.encoder = Encoder(inp_vocab_size = params[0], embedding_size = params[2], lstm_size = params[3], input_length = params[4])\n",
    "        #Create decoder object\n",
    "        self.decoder = Decoder(out_vocab_size = params[1], embedding_size = params[2], lstm_size = params[3], input_length = params[5])\n",
    "        #Intialize Dense layer(out_vocab_size) with activation='softmax'\n",
    "        self.dense = Dense(params[1], activation='softmax')\n",
    "    \n",
    "    def call(self, params, training = True):\n",
    "        '''\n",
    "        A. Pass the input sequence to Encoder layer -- Return encoder_output,encoder_final_state_h,encoder_final_state_c\n",
    "        B. Pass the target sequence to Decoder layer with intial states as encoder_final_state_h,encoder_final_state_C\n",
    "        C. Pass the decoder_outputs into Dense layer \n",
    "        \n",
    "        Return decoder_outputs\n",
    "        '''\n",
    "        enc_inp = params[0]\n",
    "        initial_state = self.encoder.initialize_states(1)\n",
    "        output_state, enc_h, enc_c = self.encoder(enc_inp, initial_state)\n",
    "        pred = tf.expand_dims([tknizer_eng.word_index['<sos>']], 0)\n",
    "        dec_h = enc_h\n",
    "        dec_c = enc_c\n",
    "        all_pred = []\n",
    "        for t in range(max_len_eng):  \n",
    "            pred, dec_h,dec_c = self.decoder(pred, [dec_h, dec_c])\n",
    "            pred = self.dense(pred)\n",
    "            pred = tf.argmax(pred, axis = -1)\n",
    "            all_pred.append(pred)\n",
    "        return all_pred"
   ]
  },
  {
   "cell_type": "code",
   "execution_count": 120,
   "metadata": {},
   "outputs": [
    {
     "data": {
      "text/plain": [
       "<tensorflow.python.training.tracking.util.CheckpointLoadStatus at 0x1c427daad88>"
      ]
     },
     "execution_count": 120,
     "metadata": {},
     "output_type": "execute_result"
    }
   ],
   "source": [
    "pred_model = pred_Encoder_decoder(ita_vocab_size, eng_vocab_size, embedding_dim, lstm_size, max_len_ita, max_len_eng, dense_units)\n",
    "pred_model.compile(optimizer = 'Adam', loss = 'sparse_categorical_crossentropy')\n",
    "pred_model.load_weights('seq2seq')"
   ]
  },
  {
   "cell_type": "code",
   "execution_count": 121,
   "metadata": {},
   "outputs": [],
   "source": [
    "def predict(input_sequence):\n",
    "    seq = preprocess(input_sequence)\n",
    "    seq = '<sos> '+seq+' <eos>'\n",
    "    seq = tknizer_ita.texts_to_sequences([seq])\n",
    "    seq = pad_sequences(seq, maxlen=max_len_ita, padding='post', dtype = np.int32)\n",
    "    pred = pred_model.predict(tf.expand_dims(seq, 0))\n",
    "    output = []\n",
    "    for i in pred:\n",
    "        word = tknizer_eng.index_word[i[0][0]]\n",
    "        if word == '<eos>':\n",
    "            break\n",
    "        output.append(word)\n",
    "    return ' '.join(output)"
   ]
  },
  {
   "cell_type": "code",
   "execution_count": 122,
   "metadata": {
    "id": "zYdHl_DGgxZZ"
   },
   "outputs": [
    {
     "name": "stdout",
     "output_type": "stream",
     "text": [
      "input :  sono brave persone\n",
      "predicted output :  they are good people\n",
      "actual output : they are good people\n"
     ]
    }
   ],
   "source": [
    "sentence = train['italin'].values[0][6:-6]\n",
    "print('input : ', sentence)\n",
    "result = predict(sentence)\n",
    "print('predicted output : ',result)\n",
    "print('actual output :', train['english'].values[0])"
   ]
  },
  {
   "cell_type": "code",
   "execution_count": 123,
   "metadata": {
    "id": "xxuxoBcXeT5B"
   },
   "outputs": [
    {
     "name": "stdout",
     "output_type": "stream",
     "text": [
      "input :  cercherò di essere pi gentile\n",
      "predicted output :  i will try to be nicer\n",
      "actual output : I will try to be nicer\n"
     ]
    }
   ],
   "source": [
    "sentence = train['italin'].values[1000][6:-6]\n",
    "print('input : ', sentence)\n",
    "result = predict(sentence)\n",
    "print('predicted output : ',result)\n",
    "print('actual output :', train['english'].values[1000])"
   ]
  },
  {
   "cell_type": "code",
   "execution_count": 125,
   "metadata": {
    "id": "996pFO8BLOfG"
   },
   "outputs": [
    {
     "name": "stdout",
     "output_type": "stream",
     "text": [
      "Bleu Score : 0.38799303126017415\n"
     ]
    }
   ],
   "source": [
    "from nltk.translate.bleu_score import sentence_bleu\n",
    "score =0\n",
    "for i in range(1000):\n",
    "    sentence = test['italin'].values[i][6:-6]\n",
    "    reference = test['english'].values[i]\n",
    "    pred = predict(sentence)\n",
    "    score+= sentence_bleu([reference.split()], pred.split())\n",
    "print('Bleu Score : {}'.format(score/1000))"
   ]
  },
  {
   "cell_type": "markdown",
   "metadata": {
    "id": "CxWFDxZXLOfJ"
   },
   "source": [
    " "
   ]
  },
  {
   "cell_type": "markdown",
   "metadata": {
    "id": "yZhX3K9GLOfJ"
   },
   "source": [
    "## 2: Seq2Seq with Attention mechanisum"
   ]
  },
  {
   "cell_type": "markdown",
   "metadata": {
    "id": "TMm3ADQDLOfK"
   },
   "source": [
    "<font color='blue'>**Encoder**</font>"
   ]
  },
  {
   "cell_type": "code",
   "execution_count": 31,
   "metadata": {
    "id": "emKzXH0LgxZZ"
   },
   "outputs": [],
   "source": [
    "from tensorflow.keras.layers import *\n",
    "class Encoder(tf.keras.layers.Layer):\n",
    "    '''\n",
    "    Encoder model -- That takes a input sequence and returns encoder-outputs,encoder_final_state_h,encoder_final_state_c\n",
    "    '''\n",
    "\n",
    "    def __init__(self,inp_vocab_size,embedding_size,lstm_size,input_length):\n",
    "        super(Encoder, self).__init__()\n",
    "        self.lstm_size = lstm_size\n",
    "        #Initialize Embedding layer\n",
    "        self.enc_embed = Embedding(input_dim = inp_vocab_size, output_dim = embedding_size)\n",
    "        #Intialize Encoder LSTM layer\n",
    "        self.enc_lstm = LSTM(lstm_size, return_sequences = True, return_state = True)\n",
    "        \n",
    "    def call(self,input_sequence,states):\n",
    "        '''\n",
    "          This function takes a sequence input and the initial states of the encoder.\n",
    "          Pass the input_sequence input to the Embedding layer, Pass the embedding layer ouput to encoder_lstm\n",
    "          returns -- encoder_output, last time step's hidden and cell state\n",
    "        '''\n",
    "        embedding = self.enc_embed(input_sequence)\n",
    "        output_state, enc_h, enc_c = self.enc_lstm(embedding, initial_state = states)\n",
    "        return output_state, enc_h, enc_c\n",
    "    \n",
    "    def initialize_states(self,batch_size):\n",
    "      '''\n",
    "      Given a batch size it will return intial hidden state and intial cell state.\n",
    "      If batch size is 32- Hidden state is zeros of size [32,lstm_units], cell state zeros is of size [32,lstm_units]\n",
    "      '''\n",
    "      return [tf.zeros((batch_size, self.lstm_size)), tf.zeros((batch_size, self.lstm_size))]\n"
   ]
  },
  {
   "cell_type": "markdown",
   "metadata": {
    "id": "lXn278lhLYRM"
   },
   "source": [
    "<font color='blue'>**Attention Mechanism**</font>"
   ]
  },
  {
   "cell_type": "code",
   "execution_count": 33,
   "metadata": {
    "id": "ab5SNdPZLlur"
   },
   "outputs": [],
   "source": [
    "from tensorflow.keras.layers import *\n",
    "class Attention(tf.keras.layers.Layer):\n",
    "\n",
    "    def __init__(self,scoring_function, att_units):\n",
    "        super(Attention, self).__init__()\n",
    "        self.scoring_function = scoring_function\n",
    "        if scoring_function == 'dot':\n",
    "            self.dot = Dot(axes = (1, 2))\n",
    "        elif scoring_function == 'general':\n",
    "          # Intialize variables needed for General score function here\n",
    "            self.W = Dense(att_units)\n",
    "            self.dot = Dot(axes = (1, 2))\n",
    "        elif scoring_function == 'concat':\n",
    "          # Intialize variables needed for Concat score function here\n",
    "            self.W1 = Dense(att_units)\n",
    "            self.W2 = Dense(att_units)\n",
    "            self.V = Dense(1)\n",
    "    def call(self,decoder_hidden_state,encoder_output):\n",
    "    \n",
    "        decoder_hidden_state = tf.expand_dims(decoder_hidden_state, 1)\n",
    "        \n",
    "        if self.scoring_function == 'dot':\n",
    "            # Implement Dot score function here\n",
    "            score = tf.transpose(self.dot([tf.transpose(decoder_hidden_state, (0, 2, 1)), encoder_output]), (0, 2,1))\n",
    "            \n",
    "        elif self.scoring_function == 'general':\n",
    "            # Implement General score function here\n",
    "            mul = self.W(encoder_output)\n",
    "            score = tf.transpose(self.dot([tf.transpose(decoder_hidden_state, (0, 2, 1)), mul]), (0, 2,1))\n",
    "            \n",
    "        elif self.scoring_function == 'concat':\n",
    "            # Implement General score function here\n",
    "            inter = self.W1(decoder_hidden_state) + self.W2(encoder_output)\n",
    "            tan = tf.nn.tanh(inter)\n",
    "            score = self.V(tan)\n",
    "        attention_weights = tf.nn.softmax(score, axis =1)\n",
    "        context_vector = attention_weights * encoder_output\n",
    "        context_vector = tf.reduce_sum(context_vector, axis=1)\n",
    "        return context_vector, attention_weights"
   ]
  },
  {
   "cell_type": "markdown",
   "metadata": {
    "id": "ic-FNEbfL2DN"
   },
   "source": [
    "<font color='blue'>**OneStepDecoder**</font>"
   ]
  },
  {
   "cell_type": "code",
   "execution_count": 35,
   "metadata": {
    "id": "Kc8m7lmOL097"
   },
   "outputs": [],
   "source": [
    "class OneStepDecoder(tf.keras.layers.Layer):\n",
    "    def __init__(self,tar_vocab_size, embedding_dim, input_length, dec_units ,score_fun ,att_units):\n",
    "        super(OneStepDecoder, self).__init__()\n",
    "      # Initialize decoder embedding layer, LSTM and any other objects needed\n",
    "        self.embed_dec = Embedding(input_dim = tar_vocab_size, output_dim = embedding_dim)\n",
    "        self.lstm = LSTM(dec_units, return_sequences = True, return_state = True)\n",
    "        self.attention = Attention(scoring_function = score_fun, att_units = att_units)\n",
    "        self.fc = Dense(tar_vocab_size)\n",
    "    \n",
    "    def call(self,input_to_decoder, encoder_output, state_h,state_c):\n",
    "        '''\n",
    "            One step decoder mechanisim step by step:\n",
    "          A. Pass the input_to_decoder to the embedding layer and then get the output(batch_size,1,embedding_dim)\n",
    "          B. Using the encoder_output and decoder hidden state, compute the context vector.\n",
    "          C. Concat the context vector with the step A output\n",
    "          D. Pass the Step-C output to LSTM/GRU and get the decoder output and states(hidden and cell state)\n",
    "          E. Pass the decoder output to dense layer(vocab size) and store the result into output.\n",
    "          F. Return the states from step D, output from Step E, attention weights from Step -B\n",
    "        '''\n",
    "        embed = self.embed_dec(input_to_decoder)\n",
    "        context_vect, attention_weights = self.attention(state_h, encoder_output)    \n",
    "        final_inp = tf.concat([tf.expand_dims(context_vect, 1), embed], axis = -1)\n",
    "        out, dec_h, dec_c = self.lstm(final_inp, [state_h, state_c])\n",
    "        out = tf.reshape(out, (-1, out.shape[2]))\n",
    "        output = self.fc(out)\n",
    "        return output, dec_h, dec_c, attention_weights, context_vect"
   ]
  },
  {
   "cell_type": "markdown",
   "metadata": {
    "id": "6FHrurjUMGAi"
   },
   "source": [
    "<font color='blue'>**Decoder**</font>"
   ]
  },
  {
   "cell_type": "code",
   "execution_count": 37,
   "metadata": {
    "id": "NV-x31rj6Hc4"
   },
   "outputs": [],
   "source": [
    "class Decoder(tf.keras.layers.Layer):\n",
    "    def __init__(self,out_vocab_size, embedding_dim, input_length, dec_units ,score_fun ,att_units):\n",
    "      #Intialize necessary variables and create an object from the class onestepdecoder\n",
    "        super(Decoder, self).__init__()\n",
    "        self.input_length = input_length\n",
    "        self.out_vocab_size = out_vocab_size\n",
    "        self.one_step_decoder = OneStepDecoder(out_vocab_size, embedding_dim, input_length, dec_units ,score_fun ,att_units)\n",
    "        self.out_vocab_size = out_vocab_size\n",
    "        \n",
    "    def call(self, input_to_decoder, encoder_output, decoder_hidden_state, decoder_cell_state):\n",
    "        #Initialize an empty Tensor array, that will store the outputs at each and every time step\n",
    "        all_outputs = tf.TensorArray(dtype = tf.float32, size= input_to_decoder.shape[1])\n",
    "        \n",
    "        for timestep in range(input_to_decoder.shape[1]):\n",
    "            output, decoder_hidden_state, decoder_cell_state, _, _ = self.one_step_decoder(input_to_decoder[:, timestep:timestep+1], \n",
    "                                                                                             encoder_output, \n",
    "                                                                                             decoder_hidden_state,\n",
    "                                                                                             decoder_cell_state)\n",
    "            # Store the output in tensorarray\n",
    "            all_outputs = all_outputs.write(timestep, output)\n",
    "        # Return the tensor array\n",
    "        all_outputs = tf.transpose(all_outputs.stack(), (1, 0, 2))\n",
    "        return all_outputs\n",
    "        \n",
    "    "
   ]
  },
  {
   "cell_type": "markdown",
   "metadata": {
    "id": "fC1T1EOoMTqC"
   },
   "source": [
    "<font color='blue'>**Encoder Decoder model**</font>"
   ]
  },
  {
   "cell_type": "code",
   "execution_count": 39,
   "metadata": {
    "id": "FfqBIe20MT3D"
   },
   "outputs": [],
   "source": [
    "class encoder_decoder(tf.keras.Model):\n",
    "    def __init__(self, inp_vocab_size, out_vocab_size, embedding_dim, enc_units, dec_units, max_len_ita, max_len_eng, score_fun, att_units, batch_size):\n",
    "        #Intialize objects from encoder decoder\n",
    "        super(encoder_decoder, self).__init__()\n",
    "        self.encoder = Encoder(inp_vocab_size, embedding_dim, enc_units, max_len_ita)\n",
    "        self.one_step_decoder = OneStepDecoder(out_vocab_size, embedding_dim, max_len_eng, dec_units ,score_fun ,att_units)\n",
    "        self.batch_size = batch_size\n",
    "    \n",
    "    @tf.function\n",
    "    def call(self, data):\n",
    "        enc_inp, dec_inp = data[0], data[1]\n",
    "        initial_state = self.encoder.initialize_states(self.batch_size)\n",
    "        enc_output, enc_h, enc_c = self.encoder(enc_inp, initial_state)\n",
    "        all_outputs = tf.TensorArray(dtype = tf.float32, size= 50)\n",
    "        \n",
    "        dec_h = enc_h\n",
    "        dec_c = enc_c\n",
    "        for timestep in range(50):\n",
    "            # Call onestepdecoder for each token in decoder_input\n",
    "            output, dec_h, dec_c, _, _ = self.one_step_decoder(dec_inp[:, timestep:timestep+1], \n",
    "                                                               enc_output, \n",
    "                                                               dec_h,\n",
    "                                                               dec_c)\n",
    "            # Store the output in tensorarray\n",
    "            all_outputs = all_outputs.write(timestep, output)\n",
    "        # Return the tensor array\n",
    "        all_outputs = tf.transpose(all_outputs.stack(), (1, 0, 2))\n",
    "        # return the decoder output\n",
    "        return all_outputs"
   ]
  },
  {
   "cell_type": "markdown",
   "metadata": {
    "id": "WVRxB-FDMJWL"
   },
   "source": [
    "<font color='blue'>**Custom loss function**</font>"
   ]
  },
  {
   "cell_type": "code",
   "execution_count": 40,
   "metadata": {
    "id": "QY_3izrXMs8y"
   },
   "outputs": [],
   "source": [
    "loss_object = tf.keras.losses.SparseCategoricalCrossentropy(from_logits=True, reduction='none')\n",
    "def loss_function(real, pred):\n",
    "    mask = tf.math.logical_not(tf.math.equal(real, 0))\n",
    "    loss_ = loss_object(real, pred)\n",
    "    mask = tf.cast(mask, dtype=loss_.dtype)\n",
    "    loss_ *= mask\n",
    "    return tf.reduce_mean(loss_)"
   ]
  },
  {
   "cell_type": "markdown",
   "metadata": {
    "id": "2QlbWAqNNlqe"
   },
   "source": [
    "<font color='blue'>**Training**</font>"
   ]
  },
  {
   "cell_type": "markdown",
   "metadata": {
    "id": "wqtZUQF2NuZE"
   },
   "source": [
    "Implement dot function here."
   ]
  },
  {
   "cell_type": "code",
   "execution_count": 95,
   "metadata": {
    "id": "lRvu9PfYyyNS"
   },
   "outputs": [],
   "source": [
    "from tensorflow.keras.callbacks import*\n",
    "import os\n",
    "batch_size=128\n",
    "lstm_size=128\n",
    "max_len_eng = 50\n",
    "max_len_ita = 29\n",
    "embedding_dim = 100\n",
    "att_units = 256\n",
    "\n",
    "train_dataset = Dataset(train, tknizer_ita, tknizer_eng, max_len_ita, max_len_eng)\n",
    "test_dataset  = Dataset(test, tknizer_ita, tknizer_eng, max_len_ita, max_len_eng)\n",
    "val_dataset  = Dataset(validation, tknizer_ita, tknizer_eng, max_len_ita, max_len_eng)\n",
    "\n",
    "train_dataloader = Dataloder(train_dataset, batch_size=batch_size)\n",
    "test_dataloader = Dataloder(test_dataset, batch_size=batch_size)\n",
    "val_dataloader = Dataloder(val_dataset, batch_size = batch_size)"
   ]
  },
  {
   "cell_type": "code",
   "execution_count": 44,
   "metadata": {
    "id": "BJu8PxZVYJBN"
   },
   "outputs": [],
   "source": [
    "model = encoder_decoder(ita_vocab_size, eng_vocab_size, embedding_dim, lstm_size, lstm_size, max_len_ita, max_len_eng, 'dot', att_units, batch_size)\n",
    "model.compile(optimizer = 'Adam', loss = loss_function)\n",
    "log_dir=\"logs/fit/\" + datetime.datetime.now().strftime(\"%Y%m%d-%H%M%S\")\n",
    "callbacks = [ModelCheckpoint('Attention_dot', save_best_only= True, verbose = 1),\n",
    "             TensorBoard(log_dir = log_dir, histogram_freq=1, write_graph=True),\n",
    "             EarlyStopping(patience = 5, verbose = 1),\n",
    "             ReduceLROnPlateau(patience = 3, verbose = 1)]"
   ]
  },
  {
   "cell_type": "code",
   "execution_count": 45,
   "metadata": {},
   "outputs": [
    {
     "name": "stdout",
     "output_type": "stream",
     "text": [
      "Epoch 1/50\n",
      "  2/632 [..............................] - ETA: 36:56 - loss: 0.9827WARNING:tensorflow:Callbacks method `on_train_batch_end` is slow compared to the batch time (batch time: 0.3979s vs `on_train_batch_end` time: 6.6300s). Check your callbacks.\n",
      "632/632 [==============================] - ETA: 0s - loss: 0.4580\n",
      "Epoch 00001: val_loss improved from inf to 0.40010, saving model to Attention_dot\n",
      "632/632 [==============================] - 254s 403ms/step - loss: 0.4580 - val_loss: 0.4001\n",
      "Epoch 2/50\n",
      "632/632 [==============================] - ETA: 0s - loss: 0.3751\n",
      "Epoch 00002: val_loss improved from 0.40010 to 0.34164, saving model to Attention_dot\n",
      "632/632 [==============================] - 239s 378ms/step - loss: 0.3751 - val_loss: 0.3416\n",
      "Epoch 3/50\n",
      "632/632 [==============================] - ETA: 0s - loss: 0.3218\n",
      "Epoch 00003: val_loss improved from 0.34164 to 0.30097, saving model to Attention_dot\n",
      "632/632 [==============================] - 241s 381ms/step - loss: 0.3218 - val_loss: 0.3010\n",
      "Epoch 4/50\n",
      "632/632 [==============================] - ETA: 0s - loss: 0.2860\n",
      "Epoch 00004: val_loss improved from 0.30097 to 0.27541, saving model to Attention_dot\n",
      "632/632 [==============================] - 244s 386ms/step - loss: 0.2860 - val_loss: 0.2754\n",
      "Epoch 5/50\n",
      "632/632 [==============================] - ETA: 0s - loss: 0.2604\n",
      "Epoch 00005: val_loss improved from 0.27541 to 0.25371, saving model to Attention_dot\n",
      "632/632 [==============================] - 239s 379ms/step - loss: 0.2604 - val_loss: 0.2537\n",
      "Epoch 6/50\n",
      "632/632 [==============================] - ETA: 0s - loss: 0.2365\n",
      "Epoch 00006: val_loss improved from 0.25371 to 0.23366, saving model to Attention_dot\n",
      "632/632 [==============================] - 246s 390ms/step - loss: 0.2365 - val_loss: 0.2337\n",
      "Epoch 7/50\n",
      "632/632 [==============================] - ETA: 0s - loss: 0.2150\n",
      "Epoch 00007: val_loss improved from 0.23366 to 0.21539, saving model to Attention_dot\n",
      "632/632 [==============================] - 244s 386ms/step - loss: 0.2150 - val_loss: 0.2154\n",
      "Epoch 8/50\n",
      "632/632 [==============================] - ETA: 0s - loss: 0.1949\n",
      "Epoch 00008: val_loss improved from 0.21539 to 0.19836, saving model to Attention_dot\n",
      "632/632 [==============================] - 243s 384ms/step - loss: 0.1949 - val_loss: 0.1984\n",
      "Epoch 9/50\n",
      "632/632 [==============================] - ETA: 0s - loss: 0.1763\n",
      "Epoch 00009: val_loss improved from 0.19836 to 0.18322, saving model to Attention_dot\n",
      "632/632 [==============================] - 235s 373ms/step - loss: 0.1763 - val_loss: 0.1832\n",
      "Epoch 10/50\n",
      "632/632 [==============================] - ETA: 0s - loss: 0.1583\n",
      "Epoch 00010: val_loss improved from 0.18322 to 0.16827, saving model to Attention_dot\n",
      "632/632 [==============================] - 244s 385ms/step - loss: 0.1583 - val_loss: 0.1683\n",
      "Epoch 11/50\n",
      "632/632 [==============================] - ETA: 0s - loss: 0.1411\n",
      "Epoch 00011: val_loss improved from 0.16827 to 0.15513, saving model to Attention_dot\n",
      "632/632 [==============================] - 245s 387ms/step - loss: 0.1411 - val_loss: 0.1551\n",
      "Epoch 12/50\n",
      "632/632 [==============================] - ETA: 0s - loss: 0.1249\n",
      "Epoch 00012: val_loss improved from 0.15513 to 0.14136, saving model to Attention_dot\n",
      "632/632 [==============================] - 242s 383ms/step - loss: 0.1249 - val_loss: 0.1414\n",
      "Epoch 13/50\n",
      "632/632 [==============================] - ETA: 0s - loss: 0.1097\n",
      "Epoch 00013: val_loss improved from 0.14136 to 0.12951, saving model to Attention_dot\n",
      "632/632 [==============================] - 241s 381ms/step - loss: 0.1097 - val_loss: 0.1295\n",
      "Epoch 14/50\n",
      "632/632 [==============================] - ETA: 0s - loss: 0.0955\n",
      "Epoch 00014: val_loss improved from 0.12951 to 0.11921, saving model to Attention_dot\n",
      "632/632 [==============================] - 238s 377ms/step - loss: 0.0955 - val_loss: 0.1192\n",
      "Epoch 15/50\n",
      "632/632 [==============================] - ETA: 0s - loss: 0.0829\n",
      "Epoch 00015: val_loss improved from 0.11921 to 0.11002, saving model to Attention_dot\n",
      "632/632 [==============================] - 247s 391ms/step - loss: 0.0829 - val_loss: 0.1100\n",
      "Epoch 16/50\n",
      "632/632 [==============================] - ETA: 0s - loss: 0.0722\n",
      "Epoch 00016: val_loss improved from 0.11002 to 0.10264, saving model to Attention_dot\n",
      "632/632 [==============================] - 244s 386ms/step - loss: 0.0722 - val_loss: 0.1026\n",
      "Epoch 17/50\n",
      "632/632 [==============================] - ETA: 0s - loss: 0.0624\n",
      "Epoch 00017: val_loss improved from 0.10264 to 0.09496, saving model to Attention_dot\n",
      "632/632 [==============================] - 244s 386ms/step - loss: 0.0624 - val_loss: 0.0950\n",
      "Epoch 18/50\n",
      "632/632 [==============================] - ETA: 0s - loss: 0.0543\n",
      "Epoch 00018: val_loss improved from 0.09496 to 0.09032, saving model to Attention_dot\n",
      "632/632 [==============================] - 242s 382ms/step - loss: 0.0543 - val_loss: 0.0903\n",
      "Epoch 19/50\n",
      "632/632 [==============================] - ETA: 0s - loss: 0.0475\n",
      "Epoch 00019: val_loss improved from 0.09032 to 0.08494, saving model to Attention_dot\n",
      "632/632 [==============================] - 238s 376ms/step - loss: 0.0475 - val_loss: 0.0849\n",
      "Epoch 20/50\n",
      "632/632 [==============================] - ETA: 0s - loss: 0.0418\n",
      "Epoch 00020: val_loss improved from 0.08494 to 0.08147, saving model to Attention_dot\n",
      "632/632 [==============================] - 240s 379ms/step - loss: 0.0418 - val_loss: 0.0815\n",
      "Epoch 21/50\n",
      "632/632 [==============================] - ETA: 0s - loss: 0.0370\n",
      "Epoch 00021: val_loss improved from 0.08147 to 0.07834, saving model to Attention_dot\n",
      "632/632 [==============================] - 239s 378ms/step - loss: 0.0370 - val_loss: 0.0783\n",
      "Epoch 22/50\n",
      "632/632 [==============================] - ETA: 0s - loss: 0.0329\n",
      "Epoch 00022: val_loss improved from 0.07834 to 0.07500, saving model to Attention_dot\n",
      "632/632 [==============================] - 242s 384ms/step - loss: 0.0329 - val_loss: 0.0750\n",
      "Epoch 23/50\n",
      "632/632 [==============================] - ETA: 0s - loss: 0.0293\n",
      "Epoch 00023: val_loss improved from 0.07500 to 0.07306, saving model to Attention_dot\n",
      "632/632 [==============================] - 237s 374ms/step - loss: 0.0293 - val_loss: 0.0731\n",
      "Epoch 24/50\n",
      "632/632 [==============================] - ETA: 0s - loss: 0.0266\n",
      "Epoch 00024: val_loss improved from 0.07306 to 0.07209, saving model to Attention_dot\n",
      "632/632 [==============================] - 249s 393ms/step - loss: 0.0266 - val_loss: 0.0721\n",
      "Epoch 25/50\n",
      "632/632 [==============================] - ETA: 0s - loss: 0.0241\n",
      "Epoch 00025: val_loss improved from 0.07209 to 0.06982, saving model to Attention_dot\n",
      "632/632 [==============================] - 244s 386ms/step - loss: 0.0241 - val_loss: 0.0698\n",
      "Epoch 26/50\n",
      "632/632 [==============================] - ETA: 0s - loss: 0.0217\n",
      "Epoch 00026: val_loss did not improve from 0.06982\n",
      "632/632 [==============================] - 239s 379ms/step - loss: 0.0217 - val_loss: 0.0699\n",
      "Epoch 27/50\n",
      "632/632 [==============================] - ETA: 0s - loss: 0.0199\n",
      "Epoch 00027: val_loss improved from 0.06982 to 0.06801, saving model to Attention_dot\n",
      "632/632 [==============================] - 238s 377ms/step - loss: 0.0199 - val_loss: 0.0680\n",
      "Epoch 28/50\n",
      "632/632 [==============================] - ETA: 0s - loss: 0.0184\n",
      "Epoch 00028: val_loss did not improve from 0.06801\n",
      "632/632 [==============================] - 240s 380ms/step - loss: 0.0184 - val_loss: 0.0680\n",
      "Epoch 29/50\n",
      "632/632 [==============================] - ETA: 0s - loss: 0.0170\n",
      "Epoch 00029: val_loss improved from 0.06801 to 0.06704, saving model to Attention_dot\n",
      "632/632 [==============================] - 245s 388ms/step - loss: 0.0170 - val_loss: 0.0670\n",
      "Epoch 30/50\n",
      "632/632 [==============================] - ETA: 0s - loss: 0.0156\n",
      "Epoch 00030: val_loss improved from 0.06704 to 0.06698, saving model to Attention_dot\n",
      "632/632 [==============================] - 244s 386ms/step - loss: 0.0156 - val_loss: 0.0670\n",
      "Epoch 31/50\n",
      "632/632 [==============================] - ETA: 0s - loss: 0.0147\n",
      "Epoch 00031: val_loss improved from 0.06698 to 0.06621, saving model to Attention_dot\n",
      "632/632 [==============================] - 243s 384ms/step - loss: 0.0147 - val_loss: 0.0662\n",
      "Epoch 32/50\n",
      "632/632 [==============================] - ETA: 0s - loss: 0.0138\n",
      "Epoch 00032: val_loss did not improve from 0.06621\n",
      "632/632 [==============================] - 237s 374ms/step - loss: 0.0138 - val_loss: 0.0662\n",
      "Epoch 33/50\n",
      "632/632 [==============================] - ETA: 0s - loss: 0.0129\n",
      "Epoch 00033: val_loss improved from 0.06621 to 0.06554, saving model to Attention_dot\n",
      "632/632 [==============================] - 238s 376ms/step - loss: 0.0129 - val_loss: 0.0655\n",
      "Epoch 34/50\n",
      "632/632 [==============================] - ETA: 0s - loss: 0.0121\n",
      "Epoch 00034: val_loss did not improve from 0.06554\n",
      "632/632 [==============================] - 243s 384ms/step - loss: 0.0121 - val_loss: 0.0666\n",
      "Epoch 35/50\n",
      "632/632 [==============================] - ETA: 0s - loss: 0.0116\n",
      "Epoch 00035: val_loss did not improve from 0.06554\n",
      "632/632 [==============================] - 236s 374ms/step - loss: 0.0116 - val_loss: 0.0662\n",
      "Epoch 36/50\n",
      "632/632 [==============================] - ETA: 0s - loss: 0.0110\n",
      "Epoch 00036: val_loss did not improve from 0.06554\n",
      "\n",
      "Epoch 00036: ReduceLROnPlateau reducing learning rate to 0.00010000000474974513.\n",
      "632/632 [==============================] - 238s 376ms/step - loss: 0.0110 - val_loss: 0.0664\n",
      "Epoch 37/50\n",
      "632/632 [==============================] - ETA: 0s - loss: 0.0082\n",
      "Epoch 00037: val_loss improved from 0.06554 to 0.06393, saving model to Attention_dot\n",
      "632/632 [==============================] - 241s 381ms/step - loss: 0.0082 - val_loss: 0.0639\n",
      "Epoch 38/50\n",
      "632/632 [==============================] - ETA: 0s - loss: 0.0075\n",
      "Epoch 00038: val_loss improved from 0.06393 to 0.06381, saving model to Attention_dot\n",
      "632/632 [==============================] - 244s 387ms/step - loss: 0.0075 - val_loss: 0.0638\n",
      "Epoch 39/50\n",
      "632/632 [==============================] - ETA: 0s - loss: 0.0072\n",
      "Epoch 00039: val_loss did not improve from 0.06381\n",
      "632/632 [==============================] - 246s 390ms/step - loss: 0.0072 - val_loss: 0.0639\n",
      "Epoch 40/50\n",
      "632/632 [==============================] - ETA: 0s - loss: 0.0070\n",
      "Epoch 00040: val_loss did not improve from 0.06381\n",
      "632/632 [==============================] - 248s 392ms/step - loss: 0.0070 - val_loss: 0.0641\n",
      "Epoch 41/50\n",
      "632/632 [==============================] - ETA: 0s - loss: 0.0069\n",
      "Epoch 00041: val_loss did not improve from 0.06381\n",
      "\n",
      "Epoch 00041: ReduceLROnPlateau reducing learning rate to 1.0000000474974514e-05.\n",
      "632/632 [==============================] - 243s 384ms/step - loss: 0.0069 - val_loss: 0.0641\n",
      "Epoch 42/50\n",
      "632/632 [==============================] - ETA: 0s - loss: 0.0065\n",
      "Epoch 00042: val_loss did not improve from 0.06381\n",
      "632/632 [==============================] - 239s 378ms/step - loss: 0.0065 - val_loss: 0.0641\n",
      "Epoch 43/50\n",
      "632/632 [==============================] - ETA: 0s - loss: 0.0065\n",
      "Epoch 00043: val_loss did not improve from 0.06381\n",
      "632/632 [==============================] - 238s 377ms/step - loss: 0.0065 - val_loss: 0.0641\n",
      "Epoch 00043: early stopping\n"
     ]
    },
    {
     "data": {
      "text/plain": [
       "<tensorflow.python.keras.callbacks.History at 0x1c4ee3844c8>"
      ]
     },
     "execution_count": 45,
     "metadata": {},
     "output_type": "execute_result"
    }
   ],
   "source": [
    "model.fit(x = train_dataloader, \n",
    "          steps_per_epoch = train_dataloader.__len__(),\n",
    "          validation_data = val_dataloader,\n",
    "          validation_steps = val_dataloader.__len__(),\n",
    "          epochs = 50,\n",
    "          verbose = 1,\n",
    "          callbacks = callbacks)"
   ]
  },
  {
   "cell_type": "code",
   "execution_count": 46,
   "metadata": {},
   "outputs": [],
   "source": [
    "class pred_Encoder_decoder(tf.keras.Model): \n",
    "    def __init__(self, inp_vocab_size, out_vocab_size, embedding_dim, enc_units, dec_units, max_len_ita, max_len_eng, score_fun, att_units):\n",
    "        #Intialize objects from encoder decoder\n",
    "        super(pred_Encoder_decoder, self).__init__()\n",
    "        self.encoder = Encoder(inp_vocab_size, embedding_dim, enc_units, max_len_ita)\n",
    "        self.one_step_decoder = OneStepDecoder(out_vocab_size, embedding_dim, max_len_eng, dec_units ,score_fun ,att_units)\n",
    "        self.batch_size = batch_size\n",
    "    def call(self, params):\n",
    "        enc_inp = params[0]\n",
    "        initial_state = self.encoder.initialize_states(1)\n",
    "        output_state, enc_h, enc_c = self.encoder(enc_inp, initial_state)\n",
    "        pred = tf.expand_dims([tknizer_eng.word_index['<sos>']], 0)\n",
    "        dec_h = enc_h\n",
    "        dec_c = enc_c\n",
    "        all_pred = []\n",
    "        all_attention = []\n",
    "        for t in range(50):  \n",
    "            pred, dec_h,dec_c, attention, _ = self.one_step_decoder(pred, output_state, dec_h, dec_c)\n",
    "            pred = tf.argmax(pred, axis = -1)\n",
    "            all_pred.append(pred)\n",
    "            pred = tf.expand_dims(pred, 0)\n",
    "            all_attention.append(attention)\n",
    "        return all_pred, all_attention"
   ]
  },
  {
   "cell_type": "code",
   "execution_count": 96,
   "metadata": {},
   "outputs": [
    {
     "data": {
      "text/plain": [
       "<tensorflow.python.training.tracking.util.CheckpointLoadStatus at 0x1c881445bc8>"
      ]
     },
     "execution_count": 96,
     "metadata": {},
     "output_type": "execute_result"
    }
   ],
   "source": [
    "pred_model = pred_Encoder_decoder(ita_vocab_size, eng_vocab_size, embedding_dim, lstm_size, lstm_size, max_len_ita, max_len_eng, 'dot', att_units)\n",
    "pred_model.compile(optimizer = 'Adam', loss = loss_function)\n",
    "pred_model.load_weights('Attention_dot')"
   ]
  },
  {
   "cell_type": "markdown",
   "metadata": {
    "id": "6DpC9zlzMcXp"
   },
   "source": [
    "## <font color='blue'>**Inference**</font>"
   ]
  },
  {
   "cell_type": "markdown",
   "metadata": {
    "id": "Z5NhESYyMW_t"
   },
   "source": [
    "<font color='blue'>**Plot attention weights**</font>"
   ]
  },
  {
   "cell_type": "code",
   "execution_count": 48,
   "metadata": {
    "id": "pkEY7SsBMtrC"
   },
   "outputs": [],
   "source": [
    "import matplotlib.pyplot as plt\n",
    "import matplotlib.ticker as ticker\n",
    "\n",
    "def plot_attention(attention, sentence, predicted_sentence):\n",
    "    fig = plt.figure(figsize=(10,10))\n",
    "    ax = fig.add_subplot(1, 1, 1)\n",
    "    ax.matshow(attention, cmap='viridis')\n",
    "\n",
    "    fontdict = {'fontsize': 14}\n",
    "\n",
    "    ax.set_xticklabels([''] + sentence, fontdict=fontdict, rotation=90)\n",
    "    ax.set_yticklabels([''] + predicted_sentence, fontdict=fontdict)\n",
    "\n",
    "    ax.xaxis.set_major_locator(ticker.MultipleLocator(1))\n",
    "    ax.yaxis.set_major_locator(ticker.MultipleLocator(1))\n",
    "\n",
    "    plt.show()"
   ]
  },
  {
   "cell_type": "code",
   "execution_count": 49,
   "metadata": {},
   "outputs": [],
   "source": [
    "def predict(input_sequence):\n",
    "    seq = preprocess(input_sequence)\n",
    "    seq = '<sos> '+seq+' <eos>'\n",
    "    seq = tknizer_ita.texts_to_sequences([seq])\n",
    "    seq = pad_sequences(seq, maxlen=max_len_ita, padding='post', dtype = np.int32)\n",
    "    pred, attention_weights = pred_model.predict(tf.expand_dims(seq, 0))\n",
    "    output = []\n",
    "    for i in pred:\n",
    "        word = tknizer_eng.index_word[i[0]]\n",
    "        if word == '<eos>':\n",
    "            break\n",
    "        output.append(word)\n",
    "    return ' '.join(output), np.squeeze(np.squeeze(np.array(attention_weights), 1), -1)"
   ]
  },
  {
   "cell_type": "markdown",
   "metadata": {
    "id": "e1IhdBrgQYJr"
   },
   "source": [
    "<font color='blue'>**Predict the sentence translation**</font>"
   ]
  },
  {
   "cell_type": "code",
   "execution_count": 50,
   "metadata": {
    "id": "POxTlfNigxZa"
   },
   "outputs": [
    {
     "name": "stdout",
     "output_type": "stream",
     "text": [
      "input :  sono brave persone\n"
     ]
    },
    {
     "data": {
      "image/png": "[encoded data removed]",
      "text/plain": [
       "<Figure size 720x720 with 1 Axes>"
      ]
     },
     "metadata": {
      "needs_background": "light"
     },
     "output_type": "display_data"
    },
    {
     "name": "stdout",
     "output_type": "stream",
     "text": [
      "predicted output :  they are good people\n",
      "actual output : they are good people\n"
     ]
    }
   ],
   "source": [
    "sentence = train['italin'].values[0][6:-6]\n",
    "print('input : ', sentence)\n",
    "result, attention_plot = predict(sentence)\n",
    "attention_plot = attention_plot[:len(result.split(' ')), :len(sentence.split(' '))]\n",
    "plot_attention(attention_plot, sentence.split(' '), result.split(' '))\n",
    "print('predicted output : ',result)\n",
    "print('actual output :', train['english'].values[0])"
   ]
  },
  {
   "cell_type": "code",
   "execution_count": 51,
   "metadata": {
    "id": "VoxeltFSeT5D"
   },
   "outputs": [
    {
     "name": "stdout",
     "output_type": "stream",
     "text": [
      "input :  cercherò di essere pi gentile\n"
     ]
    },
    {
     "data": {
      "image/png": "[encoded data removed]",
      "text/plain": [
       "<Figure size 720x720 with 1 Axes>"
      ]
     },
     "metadata": {
      "needs_background": "light"
     },
     "output_type": "display_data"
    },
    {
     "name": "stdout",
     "output_type": "stream",
     "text": [
      "predicted output :  i will try to be nicer\n",
      "actual output : I will try to be nicer\n"
     ]
    }
   ],
   "source": [
    "sentence = train['italin'].values[1000][6:-6]\n",
    "print('input : ', sentence)\n",
    "result, attention_plot = predict(sentence)\n",
    "attention_plot = attention_plot[:len(result.split(' ')), :len(sentence.split(' '))]\n",
    "plot_attention(attention_plot, sentence.split(' '), result.split(' '))\n",
    "print('predicted output : ',result)\n",
    "print('actual output :', train['english'].values[1000])"
   ]
  },
  {
   "cell_type": "markdown",
   "metadata": {
    "id": "jmxIVOOQPWMu"
   },
   "source": [
    "<font color='blue'>**Calculate BLEU score**</font>"
   ]
  },
  {
   "cell_type": "code",
   "execution_count": 97,
   "metadata": {
    "id": "0iHiLdROM23l"
   },
   "outputs": [
    {
     "name": "stdout",
     "output_type": "stream",
     "text": [
      "Bleu Score : 0.37088297078207916\n"
     ]
    }
   ],
   "source": [
    "from nltk.translate.bleu_score import sentence_bleu\n",
    "score =0\n",
    "for i in range(1000):\n",
    "    sentence = test['italin'].values[i][6:-6]\n",
    "    reference = test['english'].values[i]\n",
    "    pred, _ = predict(sentence)\n",
    "    score+= sentence_bleu([reference.split()], pred.split())\n",
    "print('Bleu Score : {}'.format(score/1000))"
   ]
  },
  {
   "cell_type": "markdown",
   "metadata": {
    "id": "SWg2ferDQvT3"
   },
   "source": [
    "<font color='blue'>**Repeat the same steps for General scoring function**</font>"
   ]
  },
  {
   "cell_type": "code",
   "execution_count": 89,
   "metadata": {
    "id": "ZffDipQvgxZa"
   },
   "outputs": [],
   "source": [
    "from tensorflow.keras.callbacks import*\n",
    "import os\n",
    "import datetime\n",
    "\n",
    "batch_size=128\n",
    "lstm_size=256\n",
    "embedding_dim = 100\n",
    "\n",
    "train_dataset = Dataset(train, tknizer_ita, tknizer_eng, max_len_ita, max_len_eng)\n",
    "test_dataset  = Dataset(test, tknizer_ita, tknizer_eng, max_len_ita, max_len_eng)\n",
    "val_dataset  = Dataset(validation, tknizer_ita, tknizer_eng, max_len_ita, max_len_eng)\n",
    "\n",
    "train_dataloader = Dataloder(train_dataset, batch_size=batch_size)\n",
    "test_dataloader = Dataloder(test_dataset, batch_size=batch_size)\n",
    "val_dataloader = Dataloder(val_dataset, batch_size = batch_size)"
   ]
  },
  {
   "cell_type": "code",
   "execution_count": 55,
   "metadata": {},
   "outputs": [],
   "source": [
    "model = encoder_decoder(ita_vocab_size, eng_vocab_size, embedding_dim, lstm_size, lstm_size, max_len_ita, max_len_eng, 'general', att_units, batch_size)\n",
    "model.compile(optimizer = 'Adam', loss = loss_function)\n",
    "log_dir=\"logs/fit/\" + datetime.datetime.now().strftime(\"%Y%m%d-%H%M%S\")\n",
    "callbacks = [ModelCheckpoint('Attention_general', save_best_only= True, verbose = 1),\n",
    "             TensorBoard(log_dir = log_dir, histogram_freq=1, write_graph=True),\n",
    "             EarlyStopping(patience = 5, verbose = 1),\n",
    "             ReduceLROnPlateau(patience = 3, verbose = 1)]"
   ]
  },
  {
   "cell_type": "code",
   "execution_count": 56,
   "metadata": {},
   "outputs": [
    {
     "name": "stdout",
     "output_type": "stream",
     "text": [
      "Epoch 1/50\n",
      "  2/632 [..............................] - ETA: 42:33 - loss: 0.9890WARNING:tensorflow:Callbacks method `on_train_batch_end` is slow compared to the batch time (batch time: 0.4269s vs `on_train_batch_end` time: 7.6672s). Check your callbacks.\n",
      "632/632 [==============================] - ETA: 0s - loss: 0.4437\n",
      "Epoch 00001: val_loss improved from inf to 0.39343, saving model to Attention_general\n",
      "632/632 [==============================] - 291s 460ms/step - loss: 0.4437 - val_loss: 0.3934\n",
      "Epoch 2/50\n",
      "632/632 [==============================] - ETA: 0s - loss: 0.3656\n",
      "Epoch 00002: val_loss improved from 0.39343 to 0.32708, saving model to Attention_general\n",
      "632/632 [==============================] - 273s 432ms/step - loss: 0.3656 - val_loss: 0.3271\n",
      "Epoch 3/50\n",
      "632/632 [==============================] - ETA: 0s - loss: 0.2969\n",
      "Epoch 00003: val_loss improved from 0.32708 to 0.27086, saving model to Attention_general\n",
      "632/632 [==============================] - 273s 432ms/step - loss: 0.2969 - val_loss: 0.2709\n",
      "Epoch 4/50\n",
      "632/632 [==============================] - ETA: 0s - loss: 0.2465\n",
      "Epoch 00004: val_loss improved from 0.27086 to 0.23024, saving model to Attention_general\n",
      "632/632 [==============================] - 272s 430ms/step - loss: 0.2465 - val_loss: 0.2302\n",
      "Epoch 5/50\n",
      "632/632 [==============================] - ETA: 0s - loss: 0.2057\n",
      "Epoch 00005: val_loss improved from 0.23024 to 0.19677, saving model to Attention_general\n",
      "632/632 [==============================] - 273s 432ms/step - loss: 0.2057 - val_loss: 0.1968\n",
      "Epoch 6/50\n",
      "632/632 [==============================] - ETA: 0s - loss: 0.1719\n",
      "Epoch 00006: val_loss improved from 0.19677 to 0.17108, saving model to Attention_general\n",
      "632/632 [==============================] - 274s 434ms/step - loss: 0.1719 - val_loss: 0.1711\n",
      "Epoch 7/50\n",
      "632/632 [==============================] - ETA: 0s - loss: 0.1422\n",
      "Epoch 00007: val_loss improved from 0.17108 to 0.14668, saving model to Attention_general\n",
      "632/632 [==============================] - 274s 434ms/step - loss: 0.1422 - val_loss: 0.1467\n",
      "Epoch 8/50\n",
      "632/632 [==============================] - ETA: 0s - loss: 0.1158\n",
      "Epoch 00008: val_loss improved from 0.14668 to 0.12656, saving model to Attention_general\n",
      "632/632 [==============================] - 274s 433ms/step - loss: 0.1158 - val_loss: 0.1266\n",
      "Epoch 9/50\n",
      "632/632 [==============================] - ETA: 0s - loss: 0.0934\n",
      "Epoch 00009: val_loss improved from 0.12656 to 0.10982, saving model to Attention_general\n",
      "632/632 [==============================] - 274s 433ms/step - loss: 0.0934 - val_loss: 0.1098\n",
      "Epoch 10/50\n",
      "632/632 [==============================] - ETA: 0s - loss: 0.0749\n",
      "Epoch 00010: val_loss improved from 0.10982 to 0.09646, saving model to Attention_general\n",
      "632/632 [==============================] - 277s 439ms/step - loss: 0.0749 - val_loss: 0.0965\n",
      "Epoch 11/50\n",
      "632/632 [==============================] - ETA: 0s - loss: 0.0603\n",
      "Epoch 00011: val_loss improved from 0.09646 to 0.08624, saving model to Attention_general\n",
      "632/632 [==============================] - 283s 448ms/step - loss: 0.0603 - val_loss: 0.0862\n",
      "Epoch 12/50\n",
      "632/632 [==============================] - ETA: 0s - loss: 0.0488\n",
      "Epoch 00012: val_loss improved from 0.08624 to 0.07903, saving model to Attention_general\n",
      "632/632 [==============================] - 279s 441ms/step - loss: 0.0488 - val_loss: 0.0790\n",
      "Epoch 13/50\n",
      "632/632 [==============================] - ETA: 0s - loss: 0.0400\n",
      "Epoch 00013: val_loss improved from 0.07903 to 0.07378, saving model to Attention_general\n",
      "632/632 [==============================] - 310s 491ms/step - loss: 0.0400 - val_loss: 0.0738\n",
      "Epoch 14/50\n",
      "632/632 [==============================] - ETA: 0s - loss: 0.0333\n",
      "Epoch 00014: val_loss improved from 0.07378 to 0.06907, saving model to Attention_general\n",
      "632/632 [==============================] - 988s 2s/step - loss: 0.0333 - val_loss: 0.0691\n",
      "Epoch 15/50\n",
      "632/632 [==============================] - ETA: 0s - loss: 0.0281\n",
      "Epoch 00015: val_loss improved from 0.06907 to 0.06659, saving model to Attention_general\n",
      "632/632 [==============================] - 267s 422ms/step - loss: 0.0281 - val_loss: 0.0666\n",
      "Epoch 16/50\n",
      "632/632 [==============================] - ETA: 0s - loss: 0.0240\n",
      "Epoch 00016: val_loss improved from 0.06659 to 0.06407, saving model to Attention_general\n",
      "632/632 [==============================] - 277s 439ms/step - loss: 0.0240 - val_loss: 0.0641\n",
      "Epoch 17/50\n",
      "632/632 [==============================] - ETA: 0s - loss: 0.0208\n",
      "Epoch 00017: val_loss improved from 0.06407 to 0.06257, saving model to Attention_general\n",
      "632/632 [==============================] - 283s 447ms/step - loss: 0.0208 - val_loss: 0.0626\n",
      "Epoch 18/50\n",
      "632/632 [==============================] - ETA: 0s - loss: 0.0184\n",
      "Epoch 00018: val_loss improved from 0.06257 to 0.06156, saving model to Attention_general\n",
      "632/632 [==============================] - 280s 444ms/step - loss: 0.0184 - val_loss: 0.0616\n",
      "Epoch 19/50\n",
      "632/632 [==============================] - ETA: 0s - loss: 0.0162\n",
      "Epoch 00019: val_loss improved from 0.06156 to 0.06034, saving model to Attention_general\n",
      "632/632 [==============================] - 281s 444ms/step - loss: 0.0162 - val_loss: 0.0603\n",
      "Epoch 20/50\n",
      "632/632 [==============================] - ETA: 0s - loss: 0.0146\n",
      "Epoch 00020: val_loss improved from 0.06034 to 0.05934, saving model to Attention_general\n",
      "632/632 [==============================] - 412s 653ms/step - loss: 0.0146 - val_loss: 0.0593\n",
      "Epoch 21/50\n",
      "632/632 [==============================] - ETA: 0s - loss: 0.0134\n",
      "Epoch 00021: val_loss did not improve from 0.05934\n",
      "632/632 [==============================] - 1128s 2s/step - loss: 0.0134 - val_loss: 0.0597\n",
      "Epoch 22/50\n",
      "632/632 [==============================] - ETA: 0s - loss: 0.0121\n",
      "Epoch 00022: val_loss did not improve from 0.05934\n",
      "632/632 [==============================] - 651s 1s/step - loss: 0.0121 - val_loss: 0.0593\n",
      "Epoch 23/50\n",
      "632/632 [==============================] - ETA: 0s - loss: 0.0113\n",
      "Epoch 00023: val_loss did not improve from 0.05934\n",
      "\n",
      "Epoch 00023: ReduceLROnPlateau reducing learning rate to 0.00010000000474974513.\n",
      "632/632 [==============================] - 267s 423ms/step - loss: 0.0113 - val_loss: 0.0598\n",
      "Epoch 24/50\n",
      "632/632 [==============================] - ETA: 0s - loss: 0.0079\n",
      "Epoch 00024: val_loss improved from 0.05934 to 0.05708, saving model to Attention_general\n",
      "632/632 [==============================] - 274s 433ms/step - loss: 0.0079 - val_loss: 0.0571\n",
      "Epoch 25/50\n",
      "632/632 [==============================] - ETA: 0s - loss: 0.0069\n",
      "Epoch 00025: val_loss improved from 0.05708 to 0.05699, saving model to Attention_general\n",
      "632/632 [==============================] - 271s 429ms/step - loss: 0.0069 - val_loss: 0.0570\n",
      "Epoch 26/50\n",
      "632/632 [==============================] - ETA: 0s - loss: 0.0065\n",
      "Epoch 00026: val_loss did not improve from 0.05699\n",
      "632/632 [==============================] - 271s 429ms/step - loss: 0.0065 - val_loss: 0.0570\n",
      "Epoch 27/50\n",
      "632/632 [==============================] - ETA: 0s - loss: 0.0063\n",
      "Epoch 00027: val_loss did not improve from 0.05699\n",
      "\n",
      "Epoch 00027: ReduceLROnPlateau reducing learning rate to 1.0000000474974514e-05.\n",
      "632/632 [==============================] - 269s 426ms/step - loss: 0.0063 - val_loss: 0.0570\n",
      "Epoch 28/50\n",
      "632/632 [==============================] - ETA: 0s - loss: 0.0058\n",
      "Epoch 00028: val_loss did not improve from 0.05699\n",
      "632/632 [==============================] - 274s 433ms/step - loss: 0.0058 - val_loss: 0.0570\n",
      "Epoch 29/50\n",
      "632/632 [==============================] - ETA: 0s - loss: 0.0058\n",
      "Epoch 00029: val_loss did not improve from 0.05699\n",
      "632/632 [==============================] - 269s 426ms/step - loss: 0.0058 - val_loss: 0.0570\n",
      "Epoch 30/50\n",
      "632/632 [==============================] - ETA: 0s - loss: 0.0058\n",
      "Epoch 00030: val_loss did not improve from 0.05699\n",
      "\n",
      "Epoch 00030: ReduceLROnPlateau reducing learning rate to 1.0000000656873453e-06.\n",
      "632/632 [==============================] - 269s 425ms/step - loss: 0.0058 - val_loss: 0.0570\n",
      "Epoch 00030: early stopping\n"
     ]
    },
    {
     "data": {
      "text/plain": [
       "<tensorflow.python.keras.callbacks.History at 0x1c6e4900248>"
      ]
     },
     "execution_count": 56,
     "metadata": {},
     "output_type": "execute_result"
    }
   ],
   "source": [
    "model.fit(x = train_dataloader, \n",
    "          steps_per_epoch = train_dataloader.__len__(),\n",
    "          validation_data = val_dataloader,\n",
    "          validation_steps = val_dataloader.__len__(),\n",
    "          epochs = 50,\n",
    "          verbose = 1,\n",
    "          callbacks = callbacks)"
   ]
  },
  {
   "cell_type": "code",
   "execution_count": 93,
   "metadata": {},
   "outputs": [
    {
     "data": {
      "text/plain": [
       "<tensorflow.python.training.tracking.util.CheckpointLoadStatus at 0x1c84b9a06c8>"
      ]
     },
     "execution_count": 93,
     "metadata": {},
     "output_type": "execute_result"
    }
   ],
   "source": [
    "pred_model = pred_Encoder_decoder(ita_vocab_size, eng_vocab_size, embedding_dim, lstm_size, lstm_size, max_len_ita, max_len_eng, 'general', att_units)\n",
    "pred_model.compile(optimizer = 'Adam', loss = loss_function)\n",
    "pred_model.load_weights('Attention_general')"
   ]
  },
  {
   "cell_type": "code",
   "execution_count": 58,
   "metadata": {
    "id": "Z8lySZDoeT5D"
   },
   "outputs": [
    {
     "name": "stdout",
     "output_type": "stream",
     "text": [
      "input :  sono brave persone\n"
     ]
    },
    {
     "data": {
      "image/png": "[encoded data removed]",
      "text/plain": [
       "<Figure size 720x720 with 1 Axes>"
      ]
     },
     "metadata": {
      "needs_background": "light"
     },
     "output_type": "display_data"
    },
    {
     "name": "stdout",
     "output_type": "stream",
     "text": [
      "output :  they are good people\n"
     ]
    }
   ],
   "source": [
    "sentence = train['italin'].values[0][6:-6]\n",
    "print('input : ', sentence)\n",
    "result, attention_plot = predict(sentence)\n",
    "attention_plot = attention_plot[:len(result.split(' ')), :len(sentence.split(' '))]\n",
    "plot_attention(attention_plot, sentence.split(' '), result.split(' '))\n",
    "print('output : ',result)"
   ]
  },
  {
   "cell_type": "code",
   "execution_count": 59,
   "metadata": {
    "id": "qJ7dSp6aeT5D"
   },
   "outputs": [
    {
     "name": "stdout",
     "output_type": "stream",
     "text": [
      "input :  cercherò di essere pi gentile\n"
     ]
    },
    {
     "data": {
      "image/png": "[encoded data removed]",
      "text/plain": [
       "<Figure size 720x720 with 1 Axes>"
      ]
     },
     "metadata": {
      "needs_background": "light"
     },
     "output_type": "display_data"
    },
    {
     "name": "stdout",
     "output_type": "stream",
     "text": [
      "output :  i will try to be nicer\n"
     ]
    }
   ],
   "source": [
    "sentence = train['italin'].values[1000][6:-6]\n",
    "print('input : ', sentence)\n",
    "result, attention_plot = predict(sentence)\n",
    "attention_plot = attention_plot[:len(result.split(' ')), :len(sentence.split(' '))]\n",
    "plot_attention(attention_plot, sentence.split(' '), result.split(' '))\n",
    "print('output : ',result)"
   ]
  },
  {
   "cell_type": "code",
   "execution_count": 94,
   "metadata": {
    "id": "PJyunDXMgxZa"
   },
   "outputs": [
    {
     "name": "stdout",
     "output_type": "stream",
     "text": [
      "Bleu Score : 0.39123319557452246\n"
     ]
    }
   ],
   "source": [
    "from nltk.translate.bleu_score import sentence_bleu\n",
    "score =0\n",
    "for i in range(1000):\n",
    "    sentence = test['italin'].values[i][6:-6]\n",
    "    reference = test['english'].values[i]\n",
    "    pred, _ = predict(sentence)\n",
    "    score+= sentence_bleu([reference.split()], pred.split())\n",
    "print('Bleu Score : {}'.format(score/1000))"
   ]
  },
  {
   "cell_type": "markdown",
   "metadata": {
    "id": "VB1jRUqZQ9AM"
   },
   "source": [
    "<font color='blue'>**Repeat the same steps for Concat scoring function**</font>"
   ]
  },
  {
   "cell_type": "code",
   "execution_count": 61,
   "metadata": {
    "id": "1kN9ZWViQNMB"
   },
   "outputs": [],
   "source": [
    "from tensorflow.keras.callbacks import*\n",
    "import os\n",
    "batch_size=64\n",
    "lstm_size=128\n",
    "embedding_dim = 100\n",
    "\n",
    "train_dataset = Dataset(train, tknizer_ita, tknizer_eng, max_len_ita, max_len_eng)\n",
    "test_dataset  = Dataset(test, tknizer_ita, tknizer_eng, max_len_ita, max_len_eng)\n",
    "val_dataset  = Dataset(validation, tknizer_ita, tknizer_eng, max_len_ita, max_len_eng)\n",
    "\n",
    "train_dataloader = Dataloder(train_dataset, batch_size=batch_size)\n",
    "test_dataloader = Dataloder(test_dataset, batch_size=batch_size)\n",
    "val_dataloader = Dataloder(val_dataset, batch_size = batch_size)"
   ]
  },
  {
   "cell_type": "code",
   "execution_count": 62,
   "metadata": {
    "id": "ElJteT5dgxZa"
   },
   "outputs": [],
   "source": [
    "model = encoder_decoder(ita_vocab_size, eng_vocab_size, embedding_dim, lstm_size, lstm_size, max_len_ita, max_len_eng, 'concat', att_units, batch_size)\n",
    "model.compile(optimizer = 'Adam', loss = loss_function)\n",
    "log_dir=\"logs/fit/\" + datetime.datetime.now().strftime(\"%Y%m%d-%H%M%S\")\n",
    "callbacks = [ModelCheckpoint('Attention_concat', save_best_only= True),\n",
    "             TensorBoard(log_dir = log_dir, histogram_freq=1, write_graph=True),\n",
    "             EarlyStopping(patience = 5, verbose = 1),\n",
    "             ReduceLROnPlateau(patience = 3, verbose = 1)]"
   ]
  },
  {
   "cell_type": "code",
   "execution_count": 63,
   "metadata": {},
   "outputs": [
    {
     "name": "stdout",
     "output_type": "stream",
     "text": [
      "Epoch 1/50\n",
      "   2/1265 [..............................] - ETA: 2:27:46 - loss: 0.9803WARNING:tensorflow:Callbacks method `on_train_batch_end` is slow compared to the batch time (batch time: 0.3760s vs `on_train_batch_end` time: 13.6508s). Check your callbacks.\n",
      "1265/1265 [==============================] - 476s 376ms/step - loss: 0.4247 - val_loss: 0.3481\n",
      "Epoch 2/50\n",
      "1265/1265 [==============================] - 455s 359ms/step - loss: 0.3086 - val_loss: 0.2701\n",
      "Epoch 3/50\n",
      "1265/1265 [==============================] - 450s 356ms/step - loss: 0.2430 - val_loss: 0.2236\n",
      "Epoch 4/50\n",
      "1265/1265 [==============================] - 459s 363ms/step - loss: 0.2004 - val_loss: 0.1920\n",
      "Epoch 5/50\n",
      "1265/1265 [==============================] - 455s 360ms/step - loss: 0.1661 - val_loss: 0.1641\n",
      "Epoch 6/50\n",
      "1265/1265 [==============================] - 454s 359ms/step - loss: 0.1361 - val_loss: 0.1415\n",
      "Epoch 7/50\n",
      "1265/1265 [==============================] - 453s 358ms/step - loss: 0.1100 - val_loss: 0.1216\n",
      "Epoch 8/50\n",
      "1265/1265 [==============================] - 453s 358ms/step - loss: 0.0881 - val_loss: 0.1058\n",
      "Epoch 9/50\n",
      "1265/1265 [==============================] - 456s 360ms/step - loss: 0.0707 - val_loss: 0.0941\n",
      "Epoch 10/50\n",
      "1265/1265 [==============================] - 453s 358ms/step - loss: 0.0572 - val_loss: 0.0845\n",
      "Epoch 11/50\n",
      "1265/1265 [==============================] - 453s 358ms/step - loss: 0.0468 - val_loss: 0.0781\n",
      "Epoch 12/50\n",
      "1265/1265 [==============================] - 450s 355ms/step - loss: 0.0390 - val_loss: 0.0735\n",
      "Epoch 13/50\n",
      "1265/1265 [==============================] - 451s 357ms/step - loss: 0.0330 - val_loss: 0.0698\n",
      "Epoch 14/50\n",
      "1265/1265 [==============================] - 449s 355ms/step - loss: 0.0283 - val_loss: 0.0673\n",
      "Epoch 15/50\n",
      "1265/1265 [==============================] - 452s 357ms/step - loss: 0.0245 - val_loss: 0.0661\n",
      "Epoch 16/50\n",
      "1265/1265 [==============================] - 451s 356ms/step - loss: 0.0217 - val_loss: 0.0645\n",
      "Epoch 17/50\n",
      "1265/1265 [==============================] - 452s 357ms/step - loss: 0.0192 - val_loss: 0.0638\n",
      "Epoch 18/50\n",
      "1265/1265 [==============================] - 451s 356ms/step - loss: 0.0174 - val_loss: 0.0626\n",
      "Epoch 19/50\n",
      "1265/1265 [==============================] - 450s 356ms/step - loss: 0.0158 - val_loss: 0.0629\n",
      "Epoch 20/50\n",
      "1265/1265 [==============================] - 452s 357ms/step - loss: 0.0145 - val_loss: 0.0618\n",
      "Epoch 21/50\n",
      "1265/1265 [==============================] - 450s 356ms/step - loss: 0.0134 - val_loss: 0.0621\n",
      "Epoch 22/50\n",
      "1265/1265 [==============================] - 451s 357ms/step - loss: 0.0125 - val_loss: 0.0625\n",
      "Epoch 23/50\n",
      "1265/1265 [==============================] - ETA: 0s - loss: 0.0117\n",
      "Epoch 00023: ReduceLROnPlateau reducing learning rate to 0.00010000000474974513.\n",
      "1265/1265 [==============================] - 448s 354ms/step - loss: 0.0117 - val_loss: 0.0635\n",
      "Epoch 24/50\n",
      "1265/1265 [==============================] - 453s 358ms/step - loss: 0.0083 - val_loss: 0.0599\n",
      "Epoch 25/50\n",
      "1265/1265 [==============================] - 457s 362ms/step - loss: 0.0072 - val_loss: 0.0598\n",
      "Epoch 26/50\n",
      "1265/1265 [==============================] - 452s 357ms/step - loss: 0.0069 - val_loss: 0.0597\n",
      "Epoch 27/50\n",
      "1265/1265 [==============================] - 449s 355ms/step - loss: 0.0066 - val_loss: 0.0599\n",
      "Epoch 28/50\n",
      "1265/1265 [==============================] - 449s 355ms/step - loss: 0.0064 - val_loss: 0.0600\n",
      "Epoch 29/50\n",
      "1265/1265 [==============================] - ETA: 0s - loss: 0.0063\n",
      "Epoch 00029: ReduceLROnPlateau reducing learning rate to 1.0000000474974514e-05.\n",
      "1265/1265 [==============================] - 448s 354ms/step - loss: 0.0063 - val_loss: 0.0602\n",
      "Epoch 30/50\n",
      "1265/1265 [==============================] - 448s 354ms/step - loss: 0.0058 - val_loss: 0.0602\n",
      "Epoch 31/50\n",
      "1265/1265 [==============================] - 449s 355ms/step - loss: 0.0058 - val_loss: 0.0603\n",
      "Epoch 00031: early stopping\n"
     ]
    },
    {
     "data": {
      "text/plain": [
       "<tensorflow.python.keras.callbacks.History at 0x1c789245988>"
      ]
     },
     "execution_count": 63,
     "metadata": {},
     "output_type": "execute_result"
    }
   ],
   "source": [
    "model.fit(x = train_dataloader, \n",
    "          steps_per_epoch = train_dataloader.__len__(),\n",
    "          validation_data = val_dataloader,\n",
    "          validation_steps = val_dataloader.__len__(),\n",
    "          epochs = 50,\n",
    "          verbose = 1,\n",
    "          callbacks = callbacks)"
   ]
  },
  {
   "cell_type": "code",
   "execution_count": 64,
   "metadata": {},
   "outputs": [
    {
     "data": {
      "text/plain": [
       "<tensorflow.python.training.tracking.util.CheckpointLoadStatus at 0x1c7d6aa0208>"
      ]
     },
     "execution_count": 64,
     "metadata": {},
     "output_type": "execute_result"
    }
   ],
   "source": [
    "pred_model = pred_Encoder_decoder(ita_vocab_size, eng_vocab_size, embedding_dim, lstm_size, lstm_size, max_len_ita, max_len_eng, 'concat', att_units)\n",
    "pred_model.compile(optimizer = 'Adam', loss = loss_function)\n",
    "pred_model.load_weights('Attention_concat')"
   ]
  },
  {
   "cell_type": "code",
   "execution_count": 65,
   "metadata": {
    "id": "5TYUGgxAeT5D"
   },
   "outputs": [
    {
     "name": "stdout",
     "output_type": "stream",
     "text": [
      "input :  sono brave persone\n"
     ]
    },
    {
     "data": {
      "image/png": "[encoded data removed]",
      "text/plain": [
       "<Figure size 720x720 with 1 Axes>"
      ]
     },
     "metadata": {
      "needs_background": "light"
     },
     "output_type": "display_data"
    },
    {
     "name": "stdout",
     "output_type": "stream",
     "text": [
      "output :  they are good people\n"
     ]
    }
   ],
   "source": [
    "sentence = train['italin'].values[0][6:-6]\n",
    "print('input : ', sentence)\n",
    "result, attention_plot = predict(sentence)\n",
    "attention_plot = attention_plot[:len(result.split(' ')), :len(sentence.split(' '))]\n",
    "plot_attention(attention_plot, sentence.split(' '), result.split(' '))\n",
    "print('output : ',result)"
   ]
  },
  {
   "cell_type": "code",
   "execution_count": 66,
   "metadata": {
    "id": "Itdm3pSMeT5D"
   },
   "outputs": [
    {
     "name": "stdout",
     "output_type": "stream",
     "text": [
      "input :  cercherò di essere pi gentile\n"
     ]
    },
    {
     "data": {
      "image/png": "[encoded data removed]",
      "text/plain": [
       "<Figure size 720x720 with 1 Axes>"
      ]
     },
     "metadata": {
      "needs_background": "light"
     },
     "output_type": "display_data"
    },
    {
     "name": "stdout",
     "output_type": "stream",
     "text": [
      "output :  i will try to be nicer\n"
     ]
    }
   ],
   "source": [
    "sentence = train['italin'].values[1000][6:-6]\n",
    "print('input : ', sentence)\n",
    "result, attention_plot = predict(sentence)\n",
    "attention_plot = attention_plot[:len(result.split(' ')), :len(sentence.split(' '))]\n",
    "plot_attention(attention_plot, sentence.split(' '), result.split(' '))\n",
    "print('output : ',result)"
   ]
  },
  {
   "cell_type": "code",
   "execution_count": 81,
   "metadata": {
    "id": "c0Y90zVUgxZa"
   },
   "outputs": [
    {
     "name": "stdout",
     "output_type": "stream",
     "text": [
      "Bleu Score : 0.39759090788619267\n"
     ]
    }
   ],
   "source": [
    "from nltk.translate.bleu_score import sentence_bleu\n",
    "score =0\n",
    "for i in range(1000):\n",
    "    sentence = test['italin'].values[i][6:-6]\n",
    "    reference = test['english'].values[i]\n",
    "    pred, _ = predict(sentence)\n",
    "    score+= sentence_bleu([reference.split()], pred.split())\n",
    "print('Bleu Score : {}'.format(score/1000))"
   ]
  },
  {
   "cell_type": "markdown",
   "metadata": {
    "id": "ZiNOcr30gxZa"
   },
   "source": [
    "# Conclusion"
   ]
  },
  {
   "cell_type": "markdown",
   "metadata": {
    "id": "Ff1lV0ITM6_p"
   },
   "source": [
    "> 1. Attention mechanism with score function as 'concat' converges faster than score function of 'general' and 'dot'.\n",
    "> 2. concat convergence > general convergence > dot convergence"
   ]
  }
 ],
 "metadata": {
  "accelerator": "GPU",
  "colab": {
   "collapsed_sections": [],
   "name": "Seq2SeqImplementation__Assignment-Copy2.ipynb",
   "provenance": [],
   "toc_visible": true
  },
  "kernelspec": {
   "display_name": "Python 3",
   "language": "python",
   "name": "python3"
  },
  "language_info": {
   "codemirror_mode": {
    "name": "ipython",
    "version": 3
   },
   "file_extension": ".py",
   "mimetype": "text/x-python",
   "name": "python",
   "nbconvert_exporter": "python",
   "pygments_lexer": "ipython3",
   "version": "3.7.6"
  }
 },
 "nbformat": 4,
 "nbformat_minor": 1
}
